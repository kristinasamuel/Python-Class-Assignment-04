{
  "nbformat": 4,
  "nbformat_minor": 0,
  "metadata": {
    "colab": {
      "provenance": [],
      "authorship_tag": "ABX9TyOVxwG6qooNe3hx+o2py0XM",
      "include_colab_link": true
    },
    "kernelspec": {
      "name": "python3",
      "display_name": "Python 3"
    },
    "language_info": {
      "name": "python"
    }
  },
  "cells": [
    {
      "cell_type": "markdown",
      "metadata": {
        "id": "view-in-github",
        "colab_type": "text"
      },
      "source": [
        "<a href=\"https://colab.research.google.com/github/kristinasamuel/Python-Class-Assignment-04/blob/main/Assignments%2001/01_basics/02_liftoff.ipynb\" target=\"_parent\"><img src=\"https://colab.research.google.com/assets/colab-badge.svg\" alt=\"Open In Colab\"/></a>"
      ]
    },
    {
      "cell_type": "code",
      "execution_count": null,
      "metadata": {
        "id": "4rAhP3wwbY9Y"
      },
      "outputs": [],
      "source": []
    },
    {
      "cell_type": "markdown",
      "source": [
        "# **Problem Statement**\n",
        "Write a program that prints out the calls for a spaceship that is about to launch. Countdown from 10 to 1 and then output Liftoff!\n",
        "\n",
        "Here's a sample run of the program:\n",
        "\n",
        "10 9 8 7 6 5 4 3 2 1 Liftoff!\n",
        "\n",
        "There are many ways to solve this problem. One approach is to use a for loop, and to use the for loop variable i. Recall that i will keep track of how many times the for loop has completed executing its body. As an example this code:\n",
        "\n",
        "for i in range(10): print(i)\n",
        "\n",
        "Will print out the values 0, 1, 2, 3, 4, 5, 6, 7, 8, 9. The values printed in liftoff are 10 minus the number of times the for loop has completed."
      ],
      "metadata": {
        "id": "aqqI6hKybd6a"
      }
    },
    {
      "cell_type": "code",
      "source": [
        "# countdown form 10 to 1\n",
        "for i in range(10):\n",
        "    # print the countdown\n",
        "    print(10 - i, end=\" \")\n",
        " # after teh loop , print liftoff\n",
        "print(\"Liftoff🧭\")\n"
      ],
      "metadata": {
        "colab": {
          "base_uri": "https://localhost:8080/"
        },
        "id": "K1nwfeRCb5ox",
        "outputId": "37e8c75f-88e6-4e39-992f-c974d81abdb1"
      },
      "execution_count": 3,
      "outputs": [
        {
          "output_type": "stream",
          "name": "stdout",
          "text": [
            "10 9 8 7 6 5 4 3 2 1 Liftoff🧭\n"
          ]
        }
      ]
    }
  ]
}