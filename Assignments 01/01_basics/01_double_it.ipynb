{
  "nbformat": 4,
  "nbformat_minor": 0,
  "metadata": {
    "colab": {
      "provenance": [],
      "authorship_tag": "ABX9TyOU+qxpZ+vWgZB6csQAwz2t",
      "include_colab_link": true
    },
    "kernelspec": {
      "name": "python3",
      "display_name": "Python 3"
    },
    "language_info": {
      "name": "python"
    }
  },
  "cells": [
    {
      "cell_type": "markdown",
      "metadata": {
        "id": "view-in-github",
        "colab_type": "text"
      },
      "source": [
        "<a href=\"https://colab.research.google.com/github/kristinasamuel/Python-Class-Assignment-04/blob/main/Assignments%2001/01_basics/01_double_it.ipynb\" target=\"_parent\"><img src=\"https://colab.research.google.com/assets/colab-badge.svg\" alt=\"Open In Colab\"/></a>"
      ]
    },
    {
      "cell_type": "markdown",
      "source": [
        "# **Problem Statement**\n",
        "Write a program that asks a user to enter a number. Your program will then double that number and print out the result. It will repeat that process until the value is 100 or greater."
      ],
      "metadata": {
        "id": "KB57pUlzDfBH"
      }
    },
    {
      "cell_type": "code",
      "source": [
        "# Ask the user to enter a number and convert it to an integer\n",
        "current_value = int(input(\"Enter a number: \"))\n",
        "\n",
        "# message\n",
        "print(\"Here's the double values: \")\n",
        "# Double the number until it becomes 100 or more\n",
        "while current_value < 100:\n",
        "   # Double the current value\n",
        "  current_value = current_value * 2\n",
        "  # Print the updated value\n",
        "  print(current_value)\n",
        ""
      ],
      "metadata": {
        "colab": {
          "base_uri": "https://localhost:8080/"
        },
        "id": "aS2Aa9hxDqSJ",
        "outputId": "f94576d6-40c5-4511-d3a4-3777e619748c"
      },
      "execution_count": 2,
      "outputs": [
        {
          "output_type": "stream",
          "name": "stdout",
          "text": [
            "Enter a number: 6\n",
            "Here's the double values: \n",
            "12\n",
            "24\n",
            "48\n",
            "96\n",
            "192\n"
          ]
        }
      ]
    }
  ]
}