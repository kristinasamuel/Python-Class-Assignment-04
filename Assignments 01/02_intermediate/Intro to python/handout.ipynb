{
  "nbformat": 4,
  "nbformat_minor": 0,
  "metadata": {
    "colab": {
      "provenance": [],
      "authorship_tag": "ABX9TyOijJp9bSrNck5goaaGDy20",
      "include_colab_link": true
    },
    "kernelspec": {
      "name": "python3",
      "display_name": "Python 3"
    },
    "language_info": {
      "name": "python"
    }
  },
  "cells": [
    {
      "cell_type": "markdown",
      "metadata": {
        "id": "view-in-github",
        "colab_type": "text"
      },
      "source": [
        "<a href=\"https://colab.research.google.com/github/kristinasamuel/Python-Class-Assignment-04/blob/main/Assignments%2001/02_intermediate/Intro%20to%20python/handout.ipynb\" target=\"_parent\"><img src=\"https://colab.research.google.com/assets/colab-badge.svg\" alt=\"Open In Colab\"/></a>"
      ]
    },
    {
      "cell_type": "code",
      "execution_count": null,
      "metadata": {
        "id": "TWFQB_yf3lAy"
      },
      "outputs": [],
      "source": []
    },
    {
      "cell_type": "markdown",
      "source": [
        "# **Problem: Planetary Weight Calculator**\n",
        "\n",
        "# **Milestone #1: Mars Weight**\n",
        "Write a Python program that prompts an Earthling to enter their weight on Earth and prints their calculated weight on Mars.\n",
        "# **Milestone #2: Adding in All Planets**\n",
        "Write a Python program that prompts an Earthling to enter their weight on Earth and then to enter the name of a planet in our solar system. The program should print the equivalent weight on that planet rounded to 2 decimal places if necessary.\n",
        "\n",
        "\n"
      ],
      "metadata": {
        "id": "0mxS9Q5o3qfr"
      }
    },
    {
      "cell_type": "markdown",
      "source": [
        " # **Mars Weight Solution**\n",
        "\n",
        " There are three key stages to solving this problem:\n",
        "\n",
        "Getting the Earthling's weight from them, which we need the input function for.\n",
        "\n",
        "Converting the Earthing's weight from a string to a number so we can do math with it. We use the float function to do this, since the weight isn't necessarily a whole number\n",
        "\n",
        "Calculating the weight on Mars, which we do by multiplying the Earth weight by 0.378. To make the program easy to read, we store this number in a constant called MARS_MULTIPLE.\n"
      ],
      "metadata": {
        "id": "52yiz7yw5C5a"
      }
    },
    {
      "cell_type": "code",
      "source": [
        "# Constant for Mars gravity\n",
        "mars_multiple = 0.378\n",
        "\n",
        "def main():\n",
        "  # Ask the user for their Earth weigh\n",
        "  earth_weight_str = input(\"Enter a weight on Earth (kg): \")\n",
        "  #  Convert the input string to float\n",
        "  earth_weight = float(earth_weight_str)\n",
        "  #  Calculate equivalent weight on Mars\n",
        "  mars_weight = earth_weight * mars_multiple\n",
        "  rounded_mars_weight = round(mars_weight)\n",
        "  # Step 5: Print the result\n",
        "  print(f\"The equivalent weight on mars: {rounded_mars_weight} kg\")\n",
        "# run the code\n",
        "if __name__ == \"__main__\":\n",
        "  main()"
      ],
      "metadata": {
        "colab": {
          "base_uri": "https://localhost:8080/"
        },
        "id": "0QRlgDHl5M9Q",
        "outputId": "68caf5fc-d85e-4321-a4d2-cc44cdfa0937"
      },
      "execution_count": 4,
      "outputs": [
        {
          "output_type": "stream",
          "name": "stdout",
          "text": [
            "Enter a weight on Earth (kg): 60\n",
            "The equivalent weight on mars: 23 kg\n"
          ]
        }
      ]
    },
    {
      "cell_type": "markdown",
      "source": [
        "# **Planetary Weights Solution**\n",
        "\n",
        "There are two key parts to this solution:\n",
        "\n",
        "Everything from the first part of the problem: getting a user's input, converting it to a float to do the calculation, and covering it to a string to print it out.\n",
        "\n",
        "Using if statements to check which gravitational constant to use based on the user's input.\n"
      ],
      "metadata": {
        "id": "O5m0UMcD78Vg"
      }
    },
    {
      "cell_type": "code",
      "source": [
        "# Gravity constants for each planet\n",
        "Mercury_Gravity = 0.376\n",
        "Venus_Gravity = 0.889\n",
        "Mars_Gravity = 0.378\n",
        "Jupiter_Gravity = 2.36\n",
        "Saturn_Gravity = 1.081\n",
        "Uranus_Gravity = 0.815\n",
        "Neptune_Gravity = 1.14\n",
        "Earth_Gravity = 1.0\n",
        "\n",
        "def main():\n",
        "  # Ask the user for their weight on Earth\n",
        "  earth_weight = float(input(\"Enter your weight on Earth (in kg): \"))\n",
        "  # Ask the user for the name of the planet\n",
        "  planet = input(\"Enter a planet: \")\n",
        "\n",
        "  if planet == \"Mercury\":\n",
        "        gravity_constant = Mercury_Gravity\n",
        "  elif planet == \"Venus\":\n",
        "        gravity_constant = Venus_Gravity\n",
        "  elif planet == \"Mars\":\n",
        "        gravity_constant = Mars_Gravity\n",
        "  elif planet == \"Jupiter\":\n",
        "        gravity_constant = Jupiter_Gravity\n",
        "  elif planet == \"Saturn\":\n",
        "        gravity_constant = Saturn_Gravity\n",
        "  elif planet == \"Uranus\":\n",
        "        gravity_constant = Uranus_Gravity\n",
        "  elif planet == \"Neptune\":\n",
        "        gravity_constant = Neptune_Gravity\n",
        "  else:\n",
        "        # If the planet name is invalid\n",
        "        print(\"Sorry, that's not a valid planet name.\")\n",
        "        return\n",
        "  planetary_weight = earth_weight * gravity_constant\n",
        "  rounded_planetary_weight = round(planetary_weight , 2)\n",
        "  # display the result\n",
        "  print(f\"Your weight on {planet} would be: {rounded_planetary_weight} kg\")\n",
        "\n",
        "# run the code\n",
        "if __name__ == \"__main__\":\n",
        "  main()\n"
      ],
      "metadata": {
        "colab": {
          "base_uri": "https://localhost:8080/"
        },
        "id": "M9cCWkdi8IeP",
        "outputId": "496f0a93-c973-4af7-9fb6-7de9d09e8ef7"
      },
      "execution_count": 12,
      "outputs": [
        {
          "output_type": "stream",
          "name": "stdout",
          "text": [
            "Enter your weight on Earth (in kg): 80\n",
            "Enter a planet: Uranus\n",
            "Your weight on Uranus would be: 65.2 kg\n"
          ]
        }
      ]
    }
  ]
}