{
  "nbformat": 4,
  "nbformat_minor": 0,
  "metadata": {
    "colab": {
      "provenance": [],
      "authorship_tag": "ABX9TyP3MSoi2M295Z6FeNccvlJ0",
      "include_colab_link": true
    },
    "kernelspec": {
      "name": "python3",
      "display_name": "Python 3"
    },
    "language_info": {
      "name": "python"
    }
  },
  "cells": [
    {
      "cell_type": "markdown",
      "metadata": {
        "id": "view-in-github",
        "colab_type": "text"
      },
      "source": [
        "<a href=\"https://colab.research.google.com/github/kristinasamuel/Python-Class-Assignment-04/blob/main/Assignments%2001/02_intermediate/Lists%20and%20Dicts/handout.ipynb\" target=\"_parent\"><img src=\"https://colab.research.google.com/assets/colab-badge.svg\" alt=\"Open In Colab\"/></a>"
      ]
    },
    {
      "cell_type": "code",
      "execution_count": null,
      "metadata": {
        "id": "jAmHeFdmDZb8"
      },
      "outputs": [],
      "source": []
    },
    {
      "cell_type": "markdown",
      "source": [
        "# **Problem #1: List Practice**\n",
        "\n",
        " practice writing code with lists! Implement the functionality described in the comments below.\n",
        "\n",
        "Print the length of the list.\n",
        "\n",
        "\n",
        "Add 'mango' at the end of the list.\n",
        "\n",
        "\n",
        "Print the updated list.\n",
        "\n"
      ],
      "metadata": {
        "id": "guGvAsRPDfIt"
      }
    },
    {
      "cell_type": "code",
      "source": [
        "# list and its method\n",
        "def main():\n",
        "  # list of fruits\n",
        "  fruits_list = ['apple', 'banana', 'orange', 'grape', 'pineapple']\n",
        "  # display the length of list\n",
        "  length_of_list = len(fruits_list)\n",
        "  print(f\"length of the list is: {length_of_list}\")\n",
        "  # Add element into list\n",
        "  fruits_list.append(\"Mango\")\n",
        "  # display the updated list\n",
        "  print(f\"Updated list {fruits_list}\")\n",
        "\n",
        "# run the code\n",
        "if __name__ == \"__main__\":\n",
        "  main()"
      ],
      "metadata": {
        "colab": {
          "base_uri": "https://localhost:8080/"
        },
        "id": "ZKjGqFtYDzVo",
        "outputId": "4c2dc3bd-34e8-4e63-baf4-7ece71e4edee"
      },
      "execution_count": 6,
      "outputs": [
        {
          "output_type": "stream",
          "name": "stdout",
          "text": [
            "length of the list is: 5\n",
            "Updated list ['apple', 'banana', 'orange', 'grape', 'pineapple', 'Mango']\n"
          ]
        }
      ]
    },
    {
      "cell_type": "markdown",
      "source": [
        "# **Problem #2: Index Game**\n",
        "\n",
        "Create a Python program that helps you practice accessing and manipulating elements in a list. This exercise will help you get comfortable with indexing, slicing, and modifying list elements."
      ],
      "metadata": {
        "id": "cDbgsbhQFYWo"
      }
    },
    {
      "cell_type": "code",
      "source": [
        "# Step 1: Initialize a list\n",
        "my_list = [\"apple\", \"banana\", \"cherry\", \"mango\", \"grapes\"]\n",
        "\n",
        "# Function to access an element\n",
        "def access_element(lst, index):\n",
        "    if 0 <= index < len(lst):\n",
        "        return f\"Element at index {index}: {lst[index]}\"\n",
        "    else:\n",
        "        return \"Index out of range!\"\n",
        "\n",
        "# Function to modify an element\n",
        "def modify_element(lst, index, new_value):\n",
        "    if 0 <= index < len(lst):\n",
        "        lst[index] = new_value\n",
        "        return f\"Element at index {index} changed to '{new_value}'\"\n",
        "    else:\n",
        "        return \"Index out of range!\"\n",
        "\n",
        "# Function to slice the list\n",
        "def slice_list(lst, start, end):\n",
        "    if 0 <= start < len(lst) and 0 <= end <= len(lst):\n",
        "        return lst[start:end]\n",
        "    else:\n",
        "        return \"Invalid slicing range!\"\n",
        "\n",
        "# Main game loop\n",
        "def index_game():\n",
        "    print(\"🎮 Welcome to the Index Game!\")\n",
        "    while True:\n",
        "        print(\"\\nChoose an operation: access, modify, slice, or quit\")\n",
        "        choice = input(\"Your choice: \").lower()\n",
        "\n",
        "        if choice == \"access\":\n",
        "            index = int(input(\"Enter index to access: \"))\n",
        "            print(access_element(my_list, index))\n",
        "            print(\"Current list:\", my_list)\n",
        "\n",
        "        elif choice == \"modify\":\n",
        "            index = int(input(\"Enter index to modify: \"))\n",
        "            new_value = input(\"Enter new value: \")\n",
        "            print(modify_element(my_list, index, new_value))\n",
        "            print(\"Updated list:\", my_list)\n",
        "\n",
        "        elif choice == \"slice\":\n",
        "            start = int(input(\"Enter start index: \"))\n",
        "            end = int(input(\"Enter end index: \"))\n",
        "            result = slice_list(my_list, start, end)\n",
        "            print(\"Sliced list:\", result)\n",
        "\n",
        "        elif choice == \"quit\":\n",
        "            print(\"👋 Thanks for playing!\")\n",
        "            break\n",
        "        else:\n",
        "            print(\"Invalid choice! Try again.\")\n",
        "\n",
        "# Run the game\n",
        "index_game()"
      ],
      "metadata": {
        "colab": {
          "base_uri": "https://localhost:8080/"
        },
        "id": "6oQ-VFemFjJR",
        "outputId": "bc263e01-6c4a-4542-dac6-af0c818b7dac"
      },
      "execution_count": 7,
      "outputs": [
        {
          "output_type": "stream",
          "name": "stdout",
          "text": [
            "🎮 Welcome to the Index Game!\n",
            "\n",
            "Choose an operation: access, modify, slice, or quit\n",
            "Your choice: slice\n",
            "Enter start index: 1\n",
            "Enter end index: 5\n",
            "Sliced list: ['banana', 'cherry', 'mango', 'grapes']\n",
            "\n",
            "Choose an operation: access, modify, slice, or quit\n",
            "Your choice: access\n",
            "Enter index to access: 4\n",
            "Element at index 4: grapes\n",
            "Current list: ['apple', 'banana', 'cherry', 'mango', 'grapes']\n",
            "\n",
            "Choose an operation: access, modify, slice, or quit\n",
            "Your choice: modify\n",
            "Enter index to modify: 3\n",
            "Enter new value: kiwi\n",
            "Element at index 3 changed to 'kiwi'\n",
            "Updated list: ['apple', 'banana', 'cherry', 'kiwi', 'grapes']\n",
            "\n",
            "Choose an operation: access, modify, slice, or quit\n",
            "Your choice: quit\n",
            "👋 Thanks for playing!\n"
          ]
        }
      ]
    }
  ]
}