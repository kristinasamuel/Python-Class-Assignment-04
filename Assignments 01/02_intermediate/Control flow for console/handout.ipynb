{
  "nbformat": 4,
  "nbformat_minor": 0,
  "metadata": {
    "colab": {
      "provenance": [],
      "authorship_tag": "ABX9TyPOV3m3FfwbYgRn2G+vq4uJ",
      "include_colab_link": true
    },
    "kernelspec": {
      "name": "python3",
      "display_name": "Python 3"
    },
    "language_info": {
      "name": "python"
    }
  },
  "cells": [
    {
      "cell_type": "markdown",
      "metadata": {
        "id": "view-in-github",
        "colab_type": "text"
      },
      "source": [
        "<a href=\"https://colab.research.google.com/github/kristinasamuel/Python-Class-Assignment-04/blob/main/Assignments%2001/02_intermediate/Control%20flow%20for%20console/handout.ipynb\" target=\"_parent\"><img src=\"https://colab.research.google.com/assets/colab-badge.svg\" alt=\"Open In Colab\"/></a>"
      ]
    },
    {
      "cell_type": "code",
      "execution_count": null,
      "metadata": {
        "id": "m5lEeirDi8Yi"
      },
      "outputs": [],
      "source": []
    },
    {
      "cell_type": "markdown",
      "source": [
        "# **Problem: High Low**\n",
        "We want you to gain more experience working with control flow and Booleans in Python. To do this, we are going to have you develop a game! The game is called High-Low and the way it's played goes as follows:\n",
        "\n",
        "Two numbers are generated from 1 to 100 (inclusive on both ends): one for you and one for a computer, who will be your opponent. You can see your number, but not the computer's!\n",
        "\n",
        "You make a guess, saying your number is either higher than or lower than the computer's number\n",
        "\n",
        "If your guess matches the truth (ex. you guess your number is higher, and then your number is actually higher than the computer's), you get a point!\n",
        "\n",
        "These steps make up one round of the game. The game is over after all rounds have been played."
      ],
      "metadata": {
        "id": "Ku09cQPgnD6B"
      }
    },
    {
      "cell_type": "code",
      "source": [
        "# import random to generate random number\n",
        "import random\n",
        "\n",
        "# display welcome message\n",
        "print(\"Welcome to the High-Low Game! 🤷‍♂️\")\n",
        "print(\"-----------------------\")\n",
        "\n",
        "# start score at 0\n",
        "score = 0\n",
        "for round_number in range(1,4):\n",
        "  print(f\"\\nRound {round_number}\")\n",
        "\n",
        "  # generate random number for player and computer(1,100)\n",
        "\n",
        "  player_1 = random.randint(1,100)\n",
        "  player_2 = random.randint(1,100)\n",
        "  print(f\"Player 1 Number is: {player_1}\")\n",
        "  # user prompt\n",
        "  guess =  input(\"Do you think your number is higher or lower than the player_2?: \").lower()\n",
        "\n",
        "  # conditions based on user guess\n",
        "  if (guess == \"higher\" and player_1 > player_2) or \\\n",
        "       (guess == \"lower\" and player_1 < player_2):\n",
        "        print(f\"You were right! The computer's number was {player_2}\")\n",
        "        score += 1  # Add point to score\n",
        "  else:\n",
        "   print(f\"Aww, that's incorrect. The computer's number was {player_2}\")\n",
        "# loops and show  this message\n",
        "\n",
        "print(\"\\n Thanks for playing❤!.\")\n",
        "\n",
        "\n",
        ""
      ],
      "metadata": {
        "colab": {
          "base_uri": "https://localhost:8080/"
        },
        "id": "WthJFIR3nOU3",
        "outputId": "39114532-ea53-42e3-8f09-49908467a4eb"
      },
      "execution_count": 3,
      "outputs": [
        {
          "output_type": "stream",
          "name": "stdout",
          "text": [
            "Welcome to the High-Low Game! 🤷‍♂️\n",
            "-----------------------\n",
            "\n",
            "Round 1\n",
            "Player 1 Number is: 66\n",
            "Do you think your number is higher or lower than the player_2?: lower\n",
            "You were right! The computer's number was 82\n",
            "\n",
            "Round 2\n",
            "Player 1 Number is: 80\n",
            "Do you think your number is higher or lower than the player_2?: higher\n",
            "You were right! The computer's number was 43\n",
            "\n",
            "Round 3\n",
            "Player 1 Number is: 35\n",
            "Do you think your number is higher or lower than the player_2?: lower\n",
            "Aww, that's incorrect. The computer's number was 13\n",
            "\n",
            " Thanks for playing❤!.\n"
          ]
        }
      ]
    }
  ]
}