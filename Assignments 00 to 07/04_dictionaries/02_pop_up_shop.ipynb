{
  "nbformat": 4,
  "nbformat_minor": 0,
  "metadata": {
    "colab": {
      "provenance": [],
      "authorship_tag": "ABX9TyPB35ySW/rnUDcbAtA/ZYaa",
      "include_colab_link": true
    },
    "kernelspec": {
      "name": "python3",
      "display_name": "Python 3"
    },
    "language_info": {
      "name": "python"
    }
  },
  "cells": [
    {
      "cell_type": "markdown",
      "metadata": {
        "id": "view-in-github",
        "colab_type": "text"
      },
      "source": [
        "<a href=\"https://colab.research.google.com/github/kristinasamuel/Python-Class-Assignment-04/blob/main/Assignments%2000%20to%2007/04_dictionaries/02_pop_up_shop.ipynb\" target=\"_parent\"><img src=\"https://colab.research.google.com/assets/colab-badge.svg\" alt=\"Open In Colab\"/></a>"
      ]
    },
    {
      "cell_type": "code",
      "execution_count": null,
      "metadata": {
        "id": "ugtDQMp5DE1t"
      },
      "outputs": [],
      "source": []
    },
    {
      "cell_type": "markdown",
      "source": [
        "# **Problem Statement**\n",
        "\n",
        "There's a small fruit shop nearby your house that you like to buy from. Since you buy several fruit at a time, you want to keep track of how much the fruit will cost before you go. Luckily you wrote down what fruits were available and how much one of each fruit costs.\n",
        "\n",
        "Write a program that loops through a dictionary of fruits, prompting the user to see how many of each fruit they want to buy, and then prints out the total combined cost of all of the fruits.\n",
        "\n",
        "Here is an example run of the program (user input is in bold italics):\n",
        "\n",
        "How many (apple) do you want?: 2\n",
        "\n",
        "How many (durian) do you want?: 0\n",
        "\n",
        "How many (jackfruit) do you want?: 1\n",
        "\n",
        "How many (kiwi) do you want?: 0\n",
        "\n",
        "How many (rambutan) do you want?: 1\n",
        "\n",
        "How many (mango) do you want?: 3\n",
        "\n",
        "Your total is $99.5"
      ],
      "metadata": {
        "id": "CALcXy7vDLry"
      }
    },
    {
      "cell_type": "code",
      "source": [
        "def main():\n",
        "    # Dictionary of fruits with their prices\n",
        "    fruits = {\n",
        "        'Strawberry': 2.3,\n",
        "        'Pineapple': 34,\n",
        "        'Grapes': 42,\n",
        "        'Guava': 5,\n",
        "    }\n",
        "\n",
        "    total_cost = 0  # Initialize total cost to 0\n",
        "\n",
        "    # Loop through each fruit in the dictionary\n",
        "    for fruit_name in fruits:\n",
        "        price = fruits[fruit_name]  # Get price of the current fruit\n",
        "        # Ask user how many they want to buy\n",
        "        amount_bought = int(input(\"How many \" + fruit_name + \"s do you want to buy?: \"))\n",
        "        total_cost += price * amount_bought  # Add to total cost\n",
        "\n",
        "    # Print the final total\n",
        "    print(\"Your total is $\" + str(total_cost))\n",
        "\n",
        "# This runs the program when the file is executed directly\n",
        "if __name__ == '__main__':\n",
        "    main()\n",
        ""
      ],
      "metadata": {
        "colab": {
          "base_uri": "https://localhost:8080/"
        },
        "id": "i3ymJ4lADUO5",
        "outputId": "f52d5187-2ceb-49f6-cbf5-5c1e997a7f32"
      },
      "execution_count": 3,
      "outputs": [
        {
          "output_type": "stream",
          "name": "stdout",
          "text": [
            "How many Strawberrys do you want to buy?: 3\n",
            "How many Pineapples do you want to buy?: 5\n",
            "How many Grapess do you want to buy?: 8\n",
            "How many Guavas do you want to buy?: 5\n",
            "Your total is $537.9\n"
          ]
        }
      ]
    }
  ]
}