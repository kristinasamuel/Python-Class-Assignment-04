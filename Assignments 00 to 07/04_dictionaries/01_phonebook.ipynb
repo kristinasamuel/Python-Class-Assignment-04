{
  "nbformat": 4,
  "nbformat_minor": 0,
  "metadata": {
    "colab": {
      "provenance": [],
      "authorship_tag": "ABX9TyNHKhuK7+LLmi8+f50h7bYS",
      "include_colab_link": true
    },
    "kernelspec": {
      "name": "python3",
      "display_name": "Python 3"
    },
    "language_info": {
      "name": "python"
    }
  },
  "cells": [
    {
      "cell_type": "markdown",
      "metadata": {
        "id": "view-in-github",
        "colab_type": "text"
      },
      "source": [
        "<a href=\"https://colab.research.google.com/github/kristinasamuel/Python-Class-Assignment-04/blob/main/Assignments%2000%20to%2007/04_dictionaries/01_phonebook.ipynb\" target=\"_parent\"><img src=\"https://colab.research.google.com/assets/colab-badge.svg\" alt=\"Open In Colab\"/></a>"
      ]
    },
    {
      "cell_type": "code",
      "execution_count": null,
      "metadata": {
        "id": "CGg-kfJRAeW3"
      },
      "outputs": [],
      "source": []
    },
    {
      "cell_type": "markdown",
      "source": [
        "# **Problem Statement**\n",
        "\n",
        "In this program we show an example of using dictionaries to keep track of information in a phonebook."
      ],
      "metadata": {
        "id": "GJZykG7TAqpF"
      }
    },
    {
      "cell_type": "code",
      "source": [
        "# Function to read phone numbers and store them in a dictionary\n",
        "def read_phonebook():\n",
        "    # Empty dictionary\n",
        "    phonebook = {}\n",
        "    # Function to display all entries in the phonebook\n",
        "    while True:\n",
        "        name = input(\"Name: \")\n",
        "        if not name:\n",
        "            break\n",
        "        number = input(\"Number: \")\n",
        "        phonebook[name] = number\n",
        "    return phonebook\n",
        "\n",
        "def show_phonebook(phonebook):\n",
        "    for name, number in phonebook.items():\n",
        "        print(f\"{name} -> {number}\")\n",
        "\n",
        "def search_phonebook(phonebook):\n",
        "    while True:\n",
        "        name = input(\"Enter name to lookup: \")\n",
        "        if not name:\n",
        "            break\n",
        "        print(phonebook.get(name, f\"{name} is not in the phonebook\"))\n",
        "\n",
        "# Main function to call\n",
        "\n",
        "def main():\n",
        "    book = read_phonebook()\n",
        "    show_phonebook(book)\n",
        "    search_phonebook(book)\n",
        "\n",
        "# Run the program\n",
        "if __name__ == '__main__':\n",
        "    main()"
      ],
      "metadata": {
        "colab": {
          "base_uri": "https://localhost:8080/"
        },
        "id": "gNQq3-H9BEXo",
        "outputId": "582c016f-a096-4cfe-d1f7-e49ca9efe8f1"
      },
      "execution_count": null,
      "outputs": [
        {
          "output_type": "stream",
          "name": "stdout",
          "text": [
            "Name: Kristina\n",
            "Number: 0320 9211889\n",
            "Name: Ahsan\n",
            "Number: 021-233654\n",
            "Name: \n",
            "Kristina -> 0320 9211889\n",
            "Ahsan -> 021-233654\n",
            "Enter name to lookup: Ahsan\n",
            "021-233654\n",
            "Enter name to lookup: Kristina\n",
            "0320 9211889\n",
            "Enter name to lookup: tina\n",
            "tina is not in the phonebook\n"
          ]
        }
      ]
    }
  ]
}