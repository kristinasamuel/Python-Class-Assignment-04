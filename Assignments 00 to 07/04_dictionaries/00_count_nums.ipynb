{
  "nbformat": 4,
  "nbformat_minor": 0,
  "metadata": {
    "colab": {
      "provenance": [],
      "authorship_tag": "ABX9TyPgfxY7mTgBwMsgWv3AgbCJ",
      "include_colab_link": true
    },
    "kernelspec": {
      "name": "python3",
      "display_name": "Python 3"
    },
    "language_info": {
      "name": "python"
    }
  },
  "cells": [
    {
      "cell_type": "markdown",
      "metadata": {
        "id": "view-in-github",
        "colab_type": "text"
      },
      "source": [
        "<a href=\"https://colab.research.google.com/github/kristinasamuel/Python-Class-Assignment-04/blob/main/Assignments%2000%20to%2007/04_dictionaries/00_count_nums.ipynb\" target=\"_parent\"><img src=\"https://colab.research.google.com/assets/colab-badge.svg\" alt=\"Open In Colab\"/></a>"
      ]
    },
    {
      "cell_type": "markdown",
      "source": [
        "# **Problem Statement**\n",
        "\n",
        "This program counts the number of times each number appears in a list. It uses a dictionary to keep track of the information.\n",
        "\n",
        "An example run of the program looks like this (user input is in blue):\n",
        "\n",
        "Enter a number: 3 Enter a number: 4 Enter a number: 3 Enter a number: 6 Enter a number: 4 Enter a number: 3 Enter a number: 12 Enter a number: 3 appears 3 times. 4 appears 2 times. 6 appears 1 times. 12 appears 1 times."
      ],
      "metadata": {
        "id": "VB5Dlls5_WbN"
      }
    },
    {
      "cell_type": "code",
      "source": [
        "def main():\n",
        "    number_counts = {}  # Dictionary to store number counts\n",
        "\n",
        "    while True:\n",
        "        # Ask the user to enter a number or press Enter to stop\n",
        "        user_input = input(\"Enter a number (or press Enter to stop): \")\n",
        "\n",
        "        if user_input == \"\":  # If input is empty, break the loop\n",
        "            break\n",
        "\n",
        "        number = int(user_input)  # Convert input to integer\n",
        "\n",
        "        # If number is already in dictionary, increment its count\n",
        "        if number in number_counts:\n",
        "            number_counts[number] += 1\n",
        "        else:\n",
        "            number_counts[number] = 1  # First time seen, set count to 1\n",
        "\n",
        "    # Print the counts of each number\n",
        "    for number, count in number_counts.items():\n",
        "        print(f\"{number} appears {count} times.\")\n",
        "\n",
        "if __name__ == '__main__':\n",
        "    main()  # Call the main function to run the program"
      ],
      "metadata": {
        "colab": {
          "base_uri": "https://localhost:8080/"
        },
        "id": "UIS8wIVR_jgN",
        "outputId": "169b3b8e-9748-4812-816c-8a499e575154"
      },
      "execution_count": 1,
      "outputs": [
        {
          "output_type": "stream",
          "name": "stdout",
          "text": [
            "Enter a number (or press Enter to stop): 3\n",
            "Enter a number (or press Enter to stop): 3\n",
            "Enter a number (or press Enter to stop): 4\n",
            "Enter a number (or press Enter to stop): \n",
            "3 appears 2 times.\n",
            "4 appears 1 times.\n"
          ]
        }
      ]
    }
  ]
}