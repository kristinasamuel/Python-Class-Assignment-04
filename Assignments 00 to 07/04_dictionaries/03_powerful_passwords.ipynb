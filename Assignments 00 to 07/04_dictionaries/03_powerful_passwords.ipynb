{
  "nbformat": 4,
  "nbformat_minor": 0,
  "metadata": {
    "colab": {
      "provenance": [],
      "authorship_tag": "ABX9TyO7fFfbemmuqFmSjC9FVJk6",
      "include_colab_link": true
    },
    "kernelspec": {
      "name": "python3",
      "display_name": "Python 3"
    },
    "language_info": {
      "name": "python"
    }
  },
  "cells": [
    {
      "cell_type": "markdown",
      "metadata": {
        "id": "view-in-github",
        "colab_type": "text"
      },
      "source": [
        "<a href=\"https://colab.research.google.com/github/kristinasamuel/Python-Class-Assignment-04/blob/main/Assignments%2000%20to%2007/04_dictionaries/03_powerful_passwords.ipynb\" target=\"_parent\"><img src=\"https://colab.research.google.com/assets/colab-badge.svg\" alt=\"Open In Colab\"/></a>"
      ]
    },
    {
      "cell_type": "code",
      "execution_count": null,
      "metadata": {
        "id": "G74dx2ICGua4"
      },
      "outputs": [],
      "source": []
    },
    {
      "cell_type": "markdown",
      "source": [
        "# **Problem Statement**\n",
        "\n",
        "you want to be safe online and use different passwords for different websites. However, you are forgetful at times and want to make a program that can match which password belongs to which website without storing the actual password!\n",
        "\n",
        "This can be done via something called hashing. Hashing is when we take something and convert it into a different, unique identifier. This is done using a hash function. Luckily, there are several resources that can help us with this.\n",
        "\n",
        "For example, using a hash function called SHA256(...) something as simple as\n",
        "\n",
        "hello\n",
        "\n",
        "can be hashed into a much more complex\n",
        "\n",
        "2cf24dba5fb0a30e26e83b2ac5b9e29e1b161e5c1fa7425e73043362938b9824\n",
        "\n",
        "Fill out the login(...) function for a website that hashes their passwords. Login should return True if an email's stored password hash in stored_logins is the same as the hash of password_to_check."
      ],
      "metadata": {
        "id": "MRnTpu8WG0zQ"
      }
    },
    {
      "cell_type": "code",
      "source": [
        "from hashlib import sha256  # We use this to hash passwords\n",
        "\n",
        "# This function hashes the given password using SHA256\n",
        "def hash_password(password):\n",
        "    return sha256(password.encode()).hexdigest()\n",
        "\n",
        "# This function checks if the given email and password match the stored data\n",
        "def login(email, stored_logins, password_to_check):\n",
        "    # Hash the entered password\n",
        "    hashed_password = hash_password(password_to_check)\n",
        "\n",
        "    # Check if email exists in stored logins and compare the hash\n",
        "    if email in stored_logins and stored_logins[email] == hashed_password:\n",
        "        return True  # Login successful\n",
        "    else:\n",
        "        return False  # Login failed\n",
        "\n",
        "def main():\n",
        "    # Pre-stored login data with hashed passwords\n",
        "    stored_logins = {\n",
        "        \"example@gmail.com\": hash_password(\"password\"),         # Actual password is \"password\"\n",
        "        \"code_in_placer@cip.org\": hash_password(\"karel\"),       # Actual password is \"karel\"\n",
        "        \"student@stanford.edu\": hash_password(\"123!456?789\")    # Actual password is \"123!456?789\"\n",
        "    }\n",
        "\n",
        "    # Test login with various emails and passwords\n",
        "    print(login(\"example@gmail.com\", stored_logins, \"word\"))\n",
        "    print(login(\"example@gmail.com\", stored_logins, \"password\"))\n",
        "\n",
        "    print(login(\"code_in_placer@cip.org\", stored_logins, \"Karel\"))\n",
        "    print(login(\"code_in_placer@cip.org\", stored_logins, \"karel\"))\n",
        "\n",
        "    print(login(\"student@stanford.edu\", stored_logins, \"password\"))\n",
        "    print(login(\"student@stanford.edu\", stored_logins, \"123!456?789\"))\n",
        "\n",
        "if __name__ == '__main__':\n",
        "    main()\n"
      ],
      "metadata": {
        "colab": {
          "base_uri": "https://localhost:8080/"
        },
        "id": "MyuY4jalHAlK",
        "outputId": "ae8a3792-753c-4913-befc-1d3330ab7fc3"
      },
      "execution_count": 1,
      "outputs": [
        {
          "output_type": "stream",
          "name": "stdout",
          "text": [
            "False\n",
            "True\n",
            "False\n",
            "True\n",
            "False\n",
            "True\n"
          ]
        }
      ]
    }
  ]
}