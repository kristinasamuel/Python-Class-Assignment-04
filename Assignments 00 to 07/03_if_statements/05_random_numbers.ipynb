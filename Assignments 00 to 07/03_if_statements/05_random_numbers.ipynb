{
  "nbformat": 4,
  "nbformat_minor": 0,
  "metadata": {
    "colab": {
      "provenance": [],
      "authorship_tag": "ABX9TyOWoWrcSeA2JVs9gkipcDpF",
      "include_colab_link": true
    },
    "kernelspec": {
      "name": "python3",
      "display_name": "Python 3"
    },
    "language_info": {
      "name": "python"
    }
  },
  "cells": [
    {
      "cell_type": "markdown",
      "metadata": {
        "id": "view-in-github",
        "colab_type": "text"
      },
      "source": [
        "<a href=\"https://colab.research.google.com/github/kristinasamuel/Python-Class-Assignment-04/blob/main/Assignments%2000%20to%2007/03_if_statements/05_random_numbers.ipynb\" target=\"_parent\"><img src=\"https://colab.research.google.com/assets/colab-badge.svg\" alt=\"Open In Colab\"/></a>"
      ]
    },
    {
      "cell_type": "markdown",
      "source": [
        "# **Problem Statement**\n",
        "\n",
        "Print 10 random numbers in the range 1 to 100.\n",
        "\n",
        "Here is an example run:\n",
        "\n",
        "45 79 61 47 52 10 16 83 19 12\n",
        "\n",
        "Each time you run your program you should get different numbers\n",
        "\n",
        "81 76 70 1 27 63 96 100 32 92\n",
        "\n",
        "Recall that the python random library has a function randint which returns an integer in the range set by the parameters (inclusive). For example this call would produce a random integer between 1 and 6, which could include 1 and could include 6:\n",
        "\n",
        "value = random.randint(1, 6)"
      ],
      "metadata": {
        "id": "DTl5WWCv8899"
      }
    },
    {
      "cell_type": "code",
      "source": [
        "import random\n",
        "numbers: int = 10\n",
        "min_value: int = 1\n",
        "max_value: int = 100\n",
        "\n",
        "def main():\n",
        "    # Loop to generate and print 10 random numbers\n",
        "    for i in range(numbers):\n",
        "        number = random.randint(min_value, max_value)\n",
        "        print(number, end=' ')\n",
        "\n",
        "# Call the main function to run the program\n",
        "if __name__ == '__main__':\n",
        "  main()"
      ],
      "metadata": {
        "colab": {
          "base_uri": "https://localhost:8080/"
        },
        "id": "86mygKxz9HrS",
        "outputId": "4582fd53-a063-4469-9490-3e200c64f2a1"
      },
      "execution_count": 2,
      "outputs": [
        {
          "output_type": "stream",
          "name": "stdout",
          "text": [
            "27 66 45 30 6 19 53 99 40 22 "
          ]
        }
      ]
    }
  ]
}