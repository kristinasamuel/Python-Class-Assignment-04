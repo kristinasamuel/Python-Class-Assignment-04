{
  "nbformat": 4,
  "nbformat_minor": 0,
  "metadata": {
    "colab": {
      "provenance": [],
      "authorship_tag": "ABX9TyNxDtUD4YPOcBapLjWzetkK",
      "include_colab_link": true
    },
    "kernelspec": {
      "name": "python3",
      "display_name": "Python 3"
    },
    "language_info": {
      "name": "python"
    }
  },
  "cells": [
    {
      "cell_type": "markdown",
      "metadata": {
        "id": "view-in-github",
        "colab_type": "text"
      },
      "source": [
        "<a href=\"https://colab.research.google.com/github/kristinasamuel/Python-Class-Assignment-04/blob/main/Assignments%2000%20to%2007/02_lists/05_get_last_element.ipynb\" target=\"_parent\"><img src=\"https://colab.research.google.com/assets/colab-badge.svg\" alt=\"Open In Colab\"/></a>"
      ]
    },
    {
      "cell_type": "code",
      "execution_count": null,
      "metadata": {
        "id": "RdtiCSLCQYzO"
      },
      "outputs": [],
      "source": []
    },
    {
      "cell_type": "markdown",
      "source": [
        "# **Problem Statement**\n",
        "\n",
        "Fill out the function get_last_element(lst) which takes in a list lst as a parameter and prints the last element in the list. The list is guaranteed to be non-empty, but there are no guarantees on its length."
      ],
      "metadata": {
        "id": "MAgAmoMJQgOn"
      }
    },
    {
      "cell_type": "code",
      "source": [
        "def get_last_element(lst):\n",
        "    \"\"\"Prints the last element of the list.\"\"\"\n",
        "    print(\"Last element:\", lst[-1])\n",
        "\n",
        "def main():\n",
        "    \"\"\"Collects user input and stores it in a list.\"\"\"\n",
        "    lst = []\n",
        "\n",
        "    # Prompt the user for input until they press enter\n",
        "    while True:\n",
        "        elem = input(\"Enter an element (press enter to stop): \")\n",
        "        if elem == \"\":  # Stop input collection if Enter is pressed\n",
        "            break\n",
        "        lst.append(elem)  # Add input to the list\n",
        "\n",
        "    if lst:  # Make sure the list is not empty before accessing the last element\n",
        "        get_last_element(lst)  # Call function to print the last element\n",
        "    else:\n",
        "        print(\"No elements were entered.\")\n",
        "\n",
        "if __name__ == '__main__':\n",
        "    main()  # Run the main function"
      ],
      "metadata": {
        "colab": {
          "base_uri": "https://localhost:8080/"
        },
        "id": "OoqGVnseRKqM",
        "outputId": "7da2d17b-0301-4088-eca9-e79a53d6ad17"
      },
      "execution_count": 4,
      "outputs": [
        {
          "output_type": "stream",
          "name": "stdout",
          "text": [
            "Enter an element (press enter to stop): 6\n",
            "Enter an element (press enter to stop): \n",
            "Last element: 6\n"
          ]
        }
      ]
    }
  ]
}