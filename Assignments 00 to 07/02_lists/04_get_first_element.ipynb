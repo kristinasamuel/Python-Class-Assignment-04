{
  "nbformat": 4,
  "nbformat_minor": 0,
  "metadata": {
    "colab": {
      "provenance": [],
      "authorship_tag": "ABX9TyPJYODS5YLMHAd4svd+xHs3",
      "include_colab_link": true
    },
    "kernelspec": {
      "name": "python3",
      "display_name": "Python 3"
    },
    "language_info": {
      "name": "python"
    }
  },
  "cells": [
    {
      "cell_type": "markdown",
      "metadata": {
        "id": "view-in-github",
        "colab_type": "text"
      },
      "source": [
        "<a href=\"https://colab.research.google.com/github/kristinasamuel/Python-Class-Assignment-04/blob/main/Assignments%2000%20to%2007/02_lists/04_get_first_element.ipynb\" target=\"_parent\"><img src=\"https://colab.research.google.com/assets/colab-badge.svg\" alt=\"Open In Colab\"/></a>"
      ]
    },
    {
      "cell_type": "markdown",
      "source": [
        "# **Problem Statement**\n",
        "\n",
        "Fill out the function get_first_element(lst) which takes in a list lst as a parameter and prints the first element in the list. The list is guaranteed to be non-empty. We've written some code for you which prompts the user to input the list one element at a time."
      ],
      "metadata": {
        "id": "bWk4CHH6OzTU"
      }
    },
    {
      "cell_type": "code",
      "source": [
        "# Prints the first element of the list\n",
        "def get_first_element(lst):\n",
        "    print(\"First element:\", lst[0])\n",
        "\n",
        "def main():\n",
        "    # Collects user input and stores it in a list.\n",
        "    lst = []\n",
        "    while True:\n",
        "      # Prompt the user for input until they press enter\n",
        "        element = input(\"Enter an element (press enter to stop): \")\n",
        "        if element == \"\":\n",
        "            break\n",
        "        lst.append(element)\n",
        "\n",
        "   # Call function to print the first element\n",
        "    get_first_element(lst)\n",
        "\n",
        "if __name__ == '__main__':\n",
        "    main()"
      ],
      "metadata": {
        "colab": {
          "base_uri": "https://localhost:8080/"
        },
        "id": "BEbCz7x4O5-c",
        "outputId": "ebc5fa5d-a6ca-4a56-a84f-a079daec7352"
      },
      "execution_count": 1,
      "outputs": [
        {
          "output_type": "stream",
          "name": "stdout",
          "text": [
            "Enter an element (press enter to stop): 3\n",
            "Enter an element (press enter to stop): 4\n",
            "Enter an element (press enter to stop): 1\n",
            "Enter an element (press enter to stop): \n",
            "First element: 3\n"
          ]
        }
      ]
    }
  ]
}