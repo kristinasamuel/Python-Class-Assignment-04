{
  "nbformat": 4,
  "nbformat_minor": 0,
  "metadata": {
    "colab": {
      "provenance": [],
      "authorship_tag": "ABX9TyPfgtlNyn9KFbMZgM3ancz1",
      "include_colab_link": true
    },
    "kernelspec": {
      "name": "python3",
      "display_name": "Python 3"
    },
    "language_info": {
      "name": "python"
    }
  },
  "cells": [
    {
      "cell_type": "markdown",
      "metadata": {
        "id": "view-in-github",
        "colab_type": "text"
      },
      "source": [
        "<a href=\"https://colab.research.google.com/github/kristinasamuel/Python-Class-Assignment-04/blob/main/Assignments%2000%20to%2007/02_lists/02_double_list.ipynb\" target=\"_parent\"><img src=\"https://colab.research.google.com/assets/colab-badge.svg\" alt=\"Open In Colab\"/></a>"
      ]
    },
    {
      "cell_type": "code",
      "execution_count": null,
      "metadata": {
        "id": "AMZer2V5H0Eo"
      },
      "outputs": [],
      "source": []
    },
    {
      "cell_type": "markdown",
      "source": [
        "# **Problem Statement**\n",
        "\n",
        "Write a program that doubles each element in a list of numbers. For example, if you start with this list:\n",
        "\n",
        "numbers = [1, 2, 3, 4]\n",
        "\n",
        "You should end with this list:\n",
        "\n",
        "numbers = [2, 4, 6, 8]"
      ],
      "metadata": {
        "id": "1fHKh65hIIBd"
      }
    },
    {
      "cell_type": "code",
      "source": [
        "# Function to double each element in the list\n",
        "def double_numbers(numbers: list) -> list:\n",
        "\n",
        "    return [num * 2 for num in numbers]\n",
        "\n",
        "# Original list of numbers\n",
        "numbers = [1,2,3,4]\n",
        "\n",
        "doubled_numbers = double_numbers(numbers)\n",
        "\n",
        "# Printing the result\n",
        "print(f\"Original numbers: {numbers}\")\n",
        "print(f\"Doubled numbers: {doubled_numbers}\")\n"
      ],
      "metadata": {
        "colab": {
          "base_uri": "https://localhost:8080/"
        },
        "id": "EVz1b1nQIPtm",
        "outputId": "59e0771f-ea3e-40b0-ac48-1248bd294a44"
      },
      "execution_count": 4,
      "outputs": [
        {
          "output_type": "stream",
          "name": "stdout",
          "text": [
            "Original numbers: [1, 2, 3, 4]\n",
            "Doubled numbers: [2, 4, 6, 8]\n"
          ]
        }
      ]
    }
  ]
}