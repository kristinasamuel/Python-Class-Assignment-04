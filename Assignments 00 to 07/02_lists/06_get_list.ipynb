{
  "nbformat": 4,
  "nbformat_minor": 0,
  "metadata": {
    "colab": {
      "provenance": [],
      "authorship_tag": "ABX9TyNkBgGyKUash/Cqc+lnpKZJ",
      "include_colab_link": true
    },
    "kernelspec": {
      "name": "python3",
      "display_name": "Python 3"
    },
    "language_info": {
      "name": "python"
    }
  },
  "cells": [
    {
      "cell_type": "markdown",
      "metadata": {
        "id": "view-in-github",
        "colab_type": "text"
      },
      "source": [
        "<a href=\"https://colab.research.google.com/github/kristinasamuel/Python-Class-Assignment-04/blob/main/Assignments%2000%20to%2007/02_lists/06_get_list.ipynb\" target=\"_parent\"><img src=\"https://colab.research.google.com/assets/colab-badge.svg\" alt=\"Open In Colab\"/></a>"
      ]
    },
    {
      "cell_type": "code",
      "execution_count": null,
      "metadata": {
        "id": "kJpmxB2YS8gC"
      },
      "outputs": [],
      "source": []
    },
    {
      "cell_type": "markdown",
      "source": [
        "# **Problem Statement**\n",
        "\n",
        "Write a program which continuously asks the user to enter values which are added one by one into a list. When the user presses enter without typing anything, print the list.\n",
        "\n",
        "Here's a sample run (user input is in blue):\n",
        "\n",
        "Enter a value: 1 Enter a value: 2 Enter a value: 3 Enter a value: Here's the list: ['1', '2', '3']"
      ],
      "metadata": {
        "id": "A5vNwhSHTC-B"
      }
    },
    {
      "cell_type": "code",
      "source": [
        "def main():\n",
        "  # Initialize an empty list to store user input\n",
        "  lst = []\n",
        "  # Prompt the user for input\n",
        "  value = input(\"Enter a value: \")\n",
        "  while value:\n",
        "    # Append the input to the list\n",
        "    lst.append(value)\n",
        "    # Prompt for input again\n",
        "    value = input(\"Enter a value: \")\n",
        "  # Print the resulting list after user input is finished\n",
        "  print(\"List:\" , lst)\n",
        "\n",
        "if __name__ == '__main__':\n",
        "  main()"
      ],
      "metadata": {
        "colab": {
          "base_uri": "https://localhost:8080/"
        },
        "id": "gAM3kGmFTNWd",
        "outputId": "eb832ed4-65c6-4c95-d2fc-a63cee0c5633"
      },
      "execution_count": 4,
      "outputs": [
        {
          "output_type": "stream",
          "name": "stdout",
          "text": [
            "Enter a value: 1\n",
            "Enter a value: 2\n",
            "Enter a value: 3\n",
            "Enter a value: 4\n",
            "Enter a value: 5\n",
            "Enter a value: \n",
            "List: ['1', '2', '3', '4', '5']\n"
          ]
        }
      ]
    }
  ]
}