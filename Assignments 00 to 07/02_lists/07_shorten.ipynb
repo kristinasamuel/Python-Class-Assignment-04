{
  "nbformat": 4,
  "nbformat_minor": 0,
  "metadata": {
    "colab": {
      "provenance": [],
      "authorship_tag": "ABX9TyMCNHPecfEehgKAQgJBRqCw"
    },
    "kernelspec": {
      "name": "python3",
      "display_name": "Python 3"
    },
    "language_info": {
      "name": "python"
    }
  },
  "cells": [
    {
      "cell_type": "code",
      "execution_count": null,
      "metadata": {
        "id": "iuUkXav8U11v"
      },
      "outputs": [],
      "source": []
    },
    {
      "cell_type": "markdown",
      "source": [
        "# **Problem Statement**\n",
        "\n",
        "Fill out the function shorten(lst) which removes elements from the end of lst, which is a list, and prints each item it removes until lst is MAX_LENGTH items long. If lst is already shorter than MAX_LENGTH you should leave it unchanged. We've written a main() function for you which gets a list and passes it into your function once you run the program. For the autograder to pass you will need MAX_LENGTH to be 3, but feel free to change it around to test your program."
      ],
      "metadata": {
        "id": "WSKhqFGMU3OZ"
      }
    },
    {
      "cell_type": "code",
      "source": [
        "# Set the maximum allowed length of the list\n",
        "MAX_LENGTH : int = 3\n",
        "\n",
        "def shorten(lst):\n",
        "    while len(lst) > MAX_LENGTH:\n",
        "        last_elem = lst.pop()\n",
        "        print(last_elem)\n",
        "\n",
        "\n",
        "\n",
        "def get_lst():\n",
        "    lst = []\n",
        "    # Keep collecting inputs until user presses enter without typing anything\n",
        "    elem = input(\"Please enter an element of the list or press enter to stop. \")\n",
        "    while elem != \"\":\n",
        "        lst.append(elem)\n",
        "        elem = input(\"Please enter an element of the list or press enter to stop. \")\n",
        "    return lst\n",
        "\n",
        "def main():\n",
        "    lst = get_lst()\n",
        "    shorten(lst)\n",
        "\n",
        "\n",
        "if __name__ == '__main__':\n",
        "  main()"
      ],
      "metadata": {
        "colab": {
          "base_uri": "https://localhost:8080/"
        },
        "id": "I9Vv8dClVBgm",
        "outputId": "1fd5f328-190b-4659-d1f2-034293d8d848"
      },
      "execution_count": 1,
      "outputs": [
        {
          "name": "stdout",
          "output_type": "stream",
          "text": [
            "Please enter an element of the list or press enter to stop. 2\n",
            "Please enter an element of the list or press enter to stop. 3\n",
            "Please enter an element of the list or press enter to stop. \n"
          ]
        }
      ]
    }
  ]
}