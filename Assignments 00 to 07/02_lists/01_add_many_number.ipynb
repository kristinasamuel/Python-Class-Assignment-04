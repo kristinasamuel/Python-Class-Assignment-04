{
  "nbformat": 4,
  "nbformat_minor": 0,
  "metadata": {
    "colab": {
      "provenance": [],
      "authorship_tag": "ABX9TyMPupIObXrDshWD4r4jS/PM",
      "include_colab_link": true
    },
    "kernelspec": {
      "name": "python3",
      "display_name": "Python 3"
    },
    "language_info": {
      "name": "python"
    }
  },
  "cells": [
    {
      "cell_type": "markdown",
      "metadata": {
        "id": "view-in-github",
        "colab_type": "text"
      },
      "source": [
        "<a href=\"https://colab.research.google.com/github/kristinasamuel/Python-Class-Assignment-04/blob/main/Assignments%2000%20to%2007/02_lists/01_add_many_number.ipynb\" target=\"_parent\"><img src=\"https://colab.research.google.com/assets/colab-badge.svg\" alt=\"Open In Colab\"/></a>"
      ]
    },
    {
      "cell_type": "code",
      "execution_count": null,
      "metadata": {
        "id": "VZYVCzcXDPv0"
      },
      "outputs": [],
      "source": []
    },
    {
      "cell_type": "markdown",
      "source": [
        "# **Problem Statement**\n",
        "\n",
        "Write a function that takes a list of numbers and returns the sum of those numbers."
      ],
      "metadata": {
        "id": "Z9EhoDyjDVSO"
      }
    },
    {
      "cell_type": "code",
      "source": [
        "# Function to calculate the sum of a list of numbers\n",
        "def sum_of_number(numbers:list)-> float:\n",
        "  return sum(numbers)\n",
        "\n",
        "# Creating a list of numbers\n",
        "numbers_list = [10,20,30,40,50]\n",
        "result = sum_of_number(numbers_list)\n",
        "\n",
        "# Printing the result\n",
        "print(f\"The sum of the numbers is: {result}\")"
      ],
      "metadata": {
        "colab": {
          "base_uri": "https://localhost:8080/"
        },
        "id": "hQ50lyAGEYWA",
        "outputId": "c64e9879-67dd-45ce-db21-3a7b3cb21b4a"
      },
      "execution_count": 1,
      "outputs": [
        {
          "output_type": "stream",
          "name": "stdout",
          "text": [
            "The sum of the numbers is: 150\n"
          ]
        }
      ]
    }
  ]
}