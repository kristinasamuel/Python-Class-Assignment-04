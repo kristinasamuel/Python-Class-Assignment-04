{
  "nbformat": 4,
  "nbformat_minor": 0,
  "metadata": {
    "colab": {
      "provenance": [],
      "authorship_tag": "ABX9TyPc9uHasKyIncg59kgSAs4K",
      "include_colab_link": true
    },
    "kernelspec": {
      "name": "python3",
      "display_name": "Python 3"
    },
    "language_info": {
      "name": "python"
    }
  },
  "cells": [
    {
      "cell_type": "markdown",
      "metadata": {
        "id": "view-in-github",
        "colab_type": "text"
      },
      "source": [
        "<a href=\"https://colab.research.google.com/github/kristinasamuel/Python-Class-Assignment-04/blob/main/Assignments%2000%20to%2007/00_intro_python/05_triangle_perimeter.ipynb\" target=\"_parent\"><img src=\"https://colab.research.google.com/assets/colab-badge.svg\" alt=\"Open In Colab\"/></a>"
      ]
    },
    {
      "cell_type": "code",
      "execution_count": null,
      "metadata": {
        "id": "Mw7u0KNZRj6d"
      },
      "outputs": [],
      "source": []
    },
    {
      "cell_type": "markdown",
      "source": [
        "# **Problem Statement**\n",
        "\n",
        "Prompt the user to enter the lengths of each side of a triangle and then calculate and print the perimeter of the triangle (the sum of all of the side lengths).\n",
        "\n",
        "Here's a sample run of the program (user input is in bold italics):\n",
        "\n",
        "What is the length of side 1? 3\n",
        "\n",
        "What is the length of side 2? 4\n",
        "\n",
        "What is the length of side 3? 5.5\n",
        "\n",
        "The perimeter of the triangle is 12.5"
      ],
      "metadata": {
        "id": "sgITGt2bRvHJ"
      }
    },
    {
      "cell_type": "code",
      "source": [
        "# Function to calculate the perimeter of a triangle\n",
        "def main():\n",
        "  # Taking user input for the three sides of the triangle\n",
        "  side_1:float = float(input(\"What is the length of side 1?\"))\n",
        "  side_2:float = float(input(\"What is the length of side 2?\"))\n",
        "  side_3:float = float(input(\"What is the length of side 3?\"))\n",
        "  # Calculating the perimeter\n",
        "  perimeter = side_1 + side_2 + side_3\n",
        "   # Displaying the result\n",
        "  print(f\"The perimeter of the triangle is {perimeter}\")\n",
        "if __name__ == \"__main__\":\n",
        "   main()\n"
      ],
      "metadata": {
        "colab": {
          "base_uri": "https://localhost:8080/"
        },
        "id": "XTDt5PDTR719",
        "outputId": "d63f4aee-7c82-4c7f-fd6c-a97dba6721a8"
      },
      "execution_count": 2,
      "outputs": [
        {
          "output_type": "stream",
          "name": "stdout",
          "text": [
            "What is the length of side 1?4\n",
            "What is the length of side 2?5\n",
            "What is the length of side 3?6\n",
            "The perimeter of the triangle is 15.0\n"
          ]
        }
      ]
    }
  ]
}