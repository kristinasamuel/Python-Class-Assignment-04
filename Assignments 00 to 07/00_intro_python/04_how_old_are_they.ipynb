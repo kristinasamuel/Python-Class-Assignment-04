{
  "nbformat": 4,
  "nbformat_minor": 0,
  "metadata": {
    "colab": {
      "provenance": [],
      "authorship_tag": "ABX9TyPRpL1KpK5GDragMPJ1FRpB",
      "include_colab_link": true
    },
    "kernelspec": {
      "name": "python3",
      "display_name": "Python 3"
    },
    "language_info": {
      "name": "python"
    }
  },
  "cells": [
    {
      "cell_type": "markdown",
      "metadata": {
        "id": "view-in-github",
        "colab_type": "text"
      },
      "source": [
        "<a href=\"https://colab.research.google.com/github/kristinasamuel/Python-Class-Assignment-04/blob/main/Assignments%2000%20to%2007/00_intro_python/04_how_old_are_they.ipynb\" target=\"_parent\"><img src=\"https://colab.research.google.com/assets/colab-badge.svg\" alt=\"Open In Colab\"/></a>"
      ]
    },
    {
      "cell_type": "code",
      "execution_count": null,
      "metadata": {
        "id": "sWSQ4_fgNa0m"
      },
      "outputs": [],
      "source": []
    },
    {
      "cell_type": "markdown",
      "source": [
        "# **Problem Statement**\n",
        "\n",
        "Write a program to solve this age-related riddle!\n",
        "\n",
        "Anton, Beth, Chen, Drew, and Ethan are all friends. Their ages are as follows:\n",
        "\n",
        "Anton is 21 years old.\n",
        "\n",
        "Beth is 6 years older than Anton.\n",
        "\n",
        "Chen is 20 years older than Beth.\n",
        "\n",
        "Drew is as old as Chen's age plus Anton's age.\n",
        "\n",
        "Ethan is the same age as Chen.\n",
        "\n",
        "store each person's age to a variable and print their names and ages at the end."
      ],
      "metadata": {
        "id": "mMwq3WbwNogI"
      }
    },
    {
      "cell_type": "code",
      "source": [
        "# Define the main function\n",
        "def main():\n",
        "  anton:int = 21\n",
        "  beth:int = anton + 6\n",
        "  chen:int = beth + 20\n",
        "  drew :int = chen + anton\n",
        "  ethan:int = chen\n",
        "\n",
        "  # Printing the ages of each person\n",
        "  print(f\"Anton is {anton} years old.\")\n",
        "  print(f\"beth is {beth} years old.\")\n",
        "  print(f\"chen is {chen} years old.\")\n",
        "  print(f\"drew is {drew} years old.\")\n",
        "  print(f\"ethan is {ethan} years old.\")\n",
        "\n",
        "if __name__ == '__main__':\n",
        "  main()"
      ],
      "metadata": {
        "colab": {
          "base_uri": "https://localhost:8080/"
        },
        "id": "FkUUInl5N9MI",
        "outputId": "d784fead-b251-4051-b170-024955a38b8e"
      },
      "execution_count": 2,
      "outputs": [
        {
          "output_type": "stream",
          "name": "stdout",
          "text": [
            "Anton is 21 years old.\n",
            "beth is 27 years old.\n",
            "chen is 47 years old.\n",
            "drew is 68 years old.\n",
            "ethan is 47 years old.\n"
          ]
        }
      ]
    }
  ]
}