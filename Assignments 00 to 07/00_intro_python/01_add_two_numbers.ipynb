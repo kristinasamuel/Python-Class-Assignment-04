{
  "nbformat": 4,
  "nbformat_minor": 0,
  "metadata": {
    "colab": {
      "provenance": [],
      "authorship_tag": "ABX9TyPvHgFWpBFVANNWtLAjeWsw",
      "include_colab_link": true
    },
    "kernelspec": {
      "name": "python3",
      "display_name": "Python 3"
    },
    "language_info": {
      "name": "python"
    }
  },
  "cells": [
    {
      "cell_type": "markdown",
      "metadata": {
        "id": "view-in-github",
        "colab_type": "text"
      },
      "source": [
        "<a href=\"https://colab.research.google.com/github/kristinasamuel/Python-Class-Assignment-04/blob/main/Assignments%2000%20to%2007/00_intro_python/01_add_two_numbers.ipynb\" target=\"_parent\"><img src=\"https://colab.research.google.com/assets/colab-badge.svg\" alt=\"Open In Colab\"/></a>"
      ]
    },
    {
      "cell_type": "code",
      "execution_count": null,
      "metadata": {
        "id": "lfI8IXyyOgwC"
      },
      "outputs": [],
      "source": []
    },
    {
      "cell_type": "markdown",
      "source": [
        "# **Problem Statement**\n",
        "\n",
        "Write a Python program that takes two integer inputs from the user and calculates their sum. The program should perform the following tasks:\n",
        "\n",
        "1. Prompt the user to enter the first number.\n",
        "\n",
        "2.  Read the input and convert it to an integer.\n",
        "\n",
        "3.  Prompt the user to enter the second number.\n",
        "\n",
        "4.  Read the input and convert it to an integer.\n",
        "\n",
        "5.  Calculate the sum of the two numbers.\n",
        "\n",
        "6.  Print the total sum with an appropriate message.\n",
        "\n",
        "\n",
        "\n"
      ],
      "metadata": {
        "id": "TSNpBQiyPXWY"
      }
    },
    {
      "cell_type": "code",
      "source": [
        "# Add two numbers\n",
        "\n",
        "def addnumbers():\n",
        "  print(\"This program add two numbers\")\n",
        "  num1: str = input(\"Enter First number: \")\n",
        "  num1:int = int(num1)\n",
        "  num2: str = input(\"Enter Second number: \")\n",
        "  num2 :int = int(num2)\n",
        "  total:int = num1 + num2\n",
        "  print(f\"The sum of two numbers is: {total} \")\n",
        "\n",
        "if __name__ == '__main__':\n",
        "  addnumbers()\n"
      ],
      "metadata": {
        "colab": {
          "base_uri": "https://localhost:8080/"
        },
        "id": "IaN9LvFrP7hr",
        "outputId": "4dab924e-ba87-4d5d-99c5-431ab7587de4"
      },
      "execution_count": 3,
      "outputs": [
        {
          "output_type": "stream",
          "name": "stdout",
          "text": [
            "This program add two numbers\n",
            "Enter First number: 23\n",
            "Enter Second number: 34\n",
            "The sum of two numbers is: 57 \n"
          ]
        }
      ]
    }
  ]
}