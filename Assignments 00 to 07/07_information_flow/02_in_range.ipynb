{
  "nbformat": 4,
  "nbformat_minor": 0,
  "metadata": {
    "colab": {
      "provenance": [],
      "authorship_tag": "ABX9TyOavngcM9TeFbErW4QYxGJT",
      "include_colab_link": true
    },
    "kernelspec": {
      "name": "python3",
      "display_name": "Python 3"
    },
    "language_info": {
      "name": "python"
    }
  },
  "cells": [
    {
      "cell_type": "markdown",
      "metadata": {
        "id": "view-in-github",
        "colab_type": "text"
      },
      "source": [
        "<a href=\"https://colab.research.google.com/github/kristinasamuel/Python-Class-Assignment-04/blob/main/Assignments%2000%20to%2007/07_information_flow/02_in_range.ipynb\" target=\"_parent\"><img src=\"https://colab.research.google.com/assets/colab-badge.svg\" alt=\"Open In Colab\"/></a>"
      ]
    },
    {
      "cell_type": "code",
      "execution_count": null,
      "metadata": {
        "id": "2LJpXonqO_Om"
      },
      "outputs": [],
      "source": []
    },
    {
      "cell_type": "markdown",
      "source": [
        "# **Problem Statement**\n",
        "\n",
        "Implement the following function which takes in 3 integers as parameters:\n",
        "\n",
        "def in_range(n, low, high) \"\"\" Returns True if n is between low and high, inclusive. high is guaranteed to be greater than low. \"\"\""
      ],
      "metadata": {
        "id": "OAvhxcNOPLic"
      }
    },
    {
      "cell_type": "code",
      "source": [
        "#\n",
        "def in_range(n,low,high):\n",
        "  \"\"\"\n",
        "  Returns True if n is between low and high, inclusive.\n",
        "  high is guaranteed to be greater than low.\n",
        "  \"\"\"\n",
        "  # Check if n is within the inclusive range\n",
        "  if n >= low and n <= high:\n",
        "    # if condition true return True\n",
        "    return True\n",
        "  #  otherwise return false\n",
        "  return False\n",
        "\n",
        "# main function to test the in_range function\n",
        "def main():\n",
        "  num = int(input(\"Enter a number: \"))\n",
        "  low = int(input(\"Enter a low number: \"))\n",
        "  high = int(input(\"Enter a high number: \"))\n",
        "\n",
        "  #  print the result based on condition\n",
        "  if in_range(num,low,high):\n",
        "    print(f\"{num} is within the range [{low}, {high}].\")\n",
        "  else:\n",
        "      print(f\"{num} is within the range [{low}, {high}].\" )\n",
        "\n",
        "#  run the code\n",
        "if __name__ == '__main__':\n",
        "   main()\n"
      ],
      "metadata": {
        "colab": {
          "base_uri": "https://localhost:8080/"
        },
        "id": "bPVr6zt2PW36",
        "outputId": "bc9c9a4a-1598-43e1-99ed-2c65f257d0fd"
      },
      "execution_count": 6,
      "outputs": [
        {
          "output_type": "stream",
          "name": "stdout",
          "text": [
            "Enter a number: 3\n",
            "Enter a low number: 5\n",
            "Enter a high number: 8\n",
            "3 is within the range [5, 8].\n"
          ]
        }
      ]
    }
  ]
}