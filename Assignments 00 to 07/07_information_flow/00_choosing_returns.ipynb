{
  "nbformat": 4,
  "nbformat_minor": 0,
  "metadata": {
    "colab": {
      "provenance": [],
      "authorship_tag": "ABX9TyOk1na76pNrk28N0dop4F2N",
      "include_colab_link": true
    },
    "kernelspec": {
      "name": "python3",
      "display_name": "Python 3"
    },
    "language_info": {
      "name": "python"
    }
  },
  "cells": [
    {
      "cell_type": "markdown",
      "metadata": {
        "id": "view-in-github",
        "colab_type": "text"
      },
      "source": [
        "<a href=\"https://colab.research.google.com/github/kristinasamuel/Python-Class-Assignment-04/blob/main/Assignments%2000%20to%2007/07_information_flow/00_choosing_returns.ipynb\" target=\"_parent\"><img src=\"https://colab.research.google.com/assets/colab-badge.svg\" alt=\"Open In Colab\"/></a>"
      ]
    },
    {
      "cell_type": "code",
      "execution_count": null,
      "metadata": {
        "id": "tgE6a4b0JLdO"
      },
      "outputs": [],
      "source": []
    },
    {
      "cell_type": "markdown",
      "source": [
        "# **Problem Statement**\n",
        "There are times where we want to return different things from a function based on some condition. To practice this idea, imagine that we want to check if someone is an adult. We might check their age and return different things depending on how old they are!\n",
        "\n",
        "We've provided you with the ADULT_AGE variable which has the age a person is legally classified as an adult (in the United States). Fill out the is_adult(age) function, which returns True if the function takes an age that is greater than or equal to ADULT_AGE. If the function takes an age less than ADULT_AGE, return False instead.\n",
        "\n",
        "Here are two sample runs of the program, one for each return option (user input in bold italics):\n",
        "\n",
        "(Entered age is an adult age)\n",
        "\n",
        "How old is this person?: 35\n",
        "\n",
        "True\n",
        "\n",
        "(Entered age is not an adult age)\n",
        "\n",
        "How old is this person?: 7\n",
        "\n",
        "False"
      ],
      "metadata": {
        "id": "YgPak_POJjsn"
      }
    },
    {
      "cell_type": "code",
      "source": [
        "adult_age : int = 18\n",
        "\n",
        "# Function to check if the given age is that of an adult\n",
        "def is_adult(age:int):\n",
        "  # If age is greater than or equal to adult_age, return True\n",
        "  if age >= adult_age:\n",
        "    return True\n",
        "  # return false when age is less then to adult_age\n",
        "  return False\n",
        "\n",
        "# Main function to get input\n",
        "def main():\n",
        "  # ask user to enter age\n",
        "  age : str = int(input(\"How old is this person?: \"))\n",
        "  print(is_adult(age))\n",
        "\n",
        "# Run the program\n",
        "if __name__ == '__main__':\n",
        "    main()"
      ],
      "metadata": {
        "colab": {
          "base_uri": "https://localhost:8080/"
        },
        "id": "ocSQXe5kJ1sV",
        "outputId": "1122643e-9b84-4ac0-894d-35ce08303f31"
      },
      "execution_count": 1,
      "outputs": [
        {
          "output_type": "stream",
          "name": "stdout",
          "text": [
            "How old is this person?: 16\n",
            "False\n"
          ]
        }
      ]
    }
  ]
}