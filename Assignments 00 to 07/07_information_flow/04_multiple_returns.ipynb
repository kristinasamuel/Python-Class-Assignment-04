{
  "nbformat": 4,
  "nbformat_minor": 0,
  "metadata": {
    "colab": {
      "provenance": [],
      "authorship_tag": "ABX9TyOioWxd1gax4kgx5rkqywU0",
      "include_colab_link": true
    },
    "kernelspec": {
      "name": "python3",
      "display_name": "Python 3"
    },
    "language_info": {
      "name": "python"
    }
  },
  "cells": [
    {
      "cell_type": "markdown",
      "metadata": {
        "id": "view-in-github",
        "colab_type": "text"
      },
      "source": [
        "<a href=\"https://colab.research.google.com/github/kristinasamuel/Python-Class-Assignment-04/blob/main/Assignments%2000%20to%2007/07_information_flow/04_multiple_returns.ipynb\" target=\"_parent\"><img src=\"https://colab.research.google.com/assets/colab-badge.svg\" alt=\"Open In Colab\"/></a>"
      ]
    },
    {
      "cell_type": "code",
      "execution_count": null,
      "metadata": {
        "id": "mGxH0G17X3TO"
      },
      "outputs": [],
      "source": []
    },
    {
      "cell_type": "markdown",
      "source": [
        "# **Problem Statement**\n",
        "There are times where you are working with lots of different data within a function that you want to return. While generally, we want to keep functions to have a precise purpose, sometimes that purpose just deals with multiple bits of data.\n",
        "\n",
        "To practice this, imagine we are working on a program where the user needs to enters data to sign up for a website. Fill out the get_user_data() function which:\n",
        "\n",
        "Asks the user for their first name and stores it in a variable\n",
        "\n",
        "Asks the user for their last name and stores it in a variable\n",
        "\n",
        "Asks the user for their email address and stores it in a variable\n",
        "\n",
        "Returns all three of these pieces of data in the order it was asked\n",
        "\n",
        "You can return multiple pieces of data by separating each piece with a comma in the return line.\n",
        "\n",
        "Here is an example run of the program:\n",
        "\n",
        "What is your first name?: Jane\n",
        "What is your last name?: Stanford\n",
        "\n",
        "What is your email address?: janestanford@stanford.edu\n",
        "\n",
        "Received the following user data: ('Jane', 'Stanford', 'janestanford@stanford.edu')"
      ],
      "metadata": {
        "id": "Ba74d3bQYA5C"
      }
    },
    {
      "cell_type": "code",
      "source": [
        "#  function to get user detail\n",
        "def get_user_info():\n",
        "\n",
        "  # prompt user to enter deatil\n",
        "  first_name:str = input(\"What is your first name?: \")\n",
        "  last_name:str = input(\"What is your last name?: \")\n",
        "  email_address:str = input(\"What is your email address?: \")\n",
        "  # return the detail of user\n",
        "  return first_name,last_name,email_address\n",
        "\n",
        "# Main function to print the detail\n",
        "def main():\n",
        "  # call function get_uer_info\n",
        "  user_data = get_user_info()\n",
        "  print(\"Detail of the user:\" , user_data)\n",
        "\n",
        "# run code\n",
        "if __name__ == \"__main__\":\n",
        "   main()"
      ],
      "metadata": {
        "colab": {
          "base_uri": "https://localhost:8080/"
        },
        "id": "PR4QheCoYRox",
        "outputId": "e38e06d3-adb0-4bea-f4dd-7c67493487d8"
      },
      "execution_count": 2,
      "outputs": [
        {
          "output_type": "stream",
          "name": "stdout",
          "text": [
            "What is your first name?: kristina\n",
            "What is your last name?: Samuel\n",
            "What is your email address?: karistina97@gmail.com\n",
            "Detail of the user: ('kristina', 'Samuel', 'karistina97@gmail.com')\n"
          ]
        }
      ]
    }
  ]
}