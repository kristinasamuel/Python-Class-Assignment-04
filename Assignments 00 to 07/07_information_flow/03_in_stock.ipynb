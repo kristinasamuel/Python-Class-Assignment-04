{
  "nbformat": 4,
  "nbformat_minor": 0,
  "metadata": {
    "colab": {
      "provenance": [],
      "authorship_tag": "ABX9TyOvTx6xPhLpjJoo7GCmjNRF",
      "include_colab_link": true
    },
    "kernelspec": {
      "name": "python3",
      "display_name": "Python 3"
    },
    "language_info": {
      "name": "python"
    }
  },
  "cells": [
    {
      "cell_type": "markdown",
      "metadata": {
        "id": "view-in-github",
        "colab_type": "text"
      },
      "source": [
        "<a href=\"https://colab.research.google.com/github/kristinasamuel/Python-Class-Assignment-04/blob/main/Assignments%2000%20to%2007/07_information_flow/03_in_stock.ipynb\" target=\"_parent\"><img src=\"https://colab.research.google.com/assets/colab-badge.svg\" alt=\"Open In Colab\"/></a>"
      ]
    },
    {
      "cell_type": "code",
      "execution_count": null,
      "metadata": {
        "id": "PFEl_cn3TTin"
      },
      "outputs": [],
      "source": []
    },
    {
      "cell_type": "markdown",
      "source": [
        "# **Problem Statement**\n",
        "\n",
        "Sophia has a fruit store. She has written a function num_in_stock which takes a string fruit as a parameter and returns how many of that fruit are in her inventory. Write code in main() which will:\n",
        "\n",
        "Prompt the user to enter a fruit (\"Enter a fruit: \")\n",
        "\n",
        "Call num_in_stock(fruit) to get the number of that fruit that Sophia has in stock\n",
        "\n",
        "Print the number which are in stock if Sophia has that fruit in her inventory (there are more than 0 in stock)\n",
        "\n",
        "Print \"This fruit is not in stock.\" if Sophia has none of that fruit in her inventory.\n",
        "\n",
        "Here's two sample runs of the program (user input in bold italics):\n",
        "\n",
        "Enter a fruit: pear\n",
        "\n",
        "This fruit is in stock! Here is how many:\n",
        "\n",
        "1000\n",
        "\n",
        "Enter a fruit: lychee\n",
        "\n",
        "This fruit is not in sto"
      ],
      "metadata": {
        "id": "gMFMmwSzUfme"
      }
    },
    {
      "cell_type": "code",
      "source": [
        "def main():\n",
        "  # Ask the user to enter the name of a fruit\n",
        "  fruit : str = input(\"Enter a fruit: \")\n",
        "  #  print the avaliable stock quantity\n",
        "  stock = num_in_stock(fruit)\n",
        "  #  check the fruit is in stock or not\n",
        "  if stock == 0:\n",
        "    print(\"This fruit is not in stock.\")\n",
        "  else:\n",
        "    print(\"This fruit is in stock! Here is how many: \")\n",
        "    print(stock)\n",
        "\n",
        "# Fuits in stock\n",
        "def num_in_stock(fruit):\n",
        "  \"\"\"\n",
        "\tThis function returns the number of fruit Sophia has in stock.\n",
        "\t\"\"\"\n",
        "  if fruit == 'Pineapple':\n",
        "    return 4\n",
        "  if fruit == 'Strawberry':\n",
        "    return 6\n",
        "  if fruit == 'Grapes':\n",
        "    return 9\n",
        "  else:\n",
        "    return 0\n",
        "if __name__ == '__main__':\n",
        "    main()\n",
        "\n",
        ""
      ],
      "metadata": {
        "colab": {
          "base_uri": "https://localhost:8080/"
        },
        "id": "G6rngmf0UmsB",
        "outputId": "0eaccc6e-f294-4552-8112-f3c55c66da99"
      },
      "execution_count": 2,
      "outputs": [
        {
          "output_type": "stream",
          "name": "stdout",
          "text": [
            "Enter a fruit: Pineapple\n",
            "This fruit is in stock! Here is how many: \n",
            "4\n"
          ]
        }
      ]
    }
  ]
}