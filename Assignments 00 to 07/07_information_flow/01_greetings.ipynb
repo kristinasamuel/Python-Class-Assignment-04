{
  "nbformat": 4,
  "nbformat_minor": 0,
  "metadata": {
    "colab": {
      "provenance": [],
      "authorship_tag": "ABX9TyOpB7N73Zt1kufh1H5/TcKQ",
      "include_colab_link": true
    },
    "kernelspec": {
      "name": "python3",
      "display_name": "Python 3"
    },
    "language_info": {
      "name": "python"
    }
  },
  "cells": [
    {
      "cell_type": "markdown",
      "metadata": {
        "id": "view-in-github",
        "colab_type": "text"
      },
      "source": [
        "<a href=\"https://colab.research.google.com/github/kristinasamuel/Python-Class-Assignment-04/blob/main/Assignments%2000%20to%2007/07_information_flow/01_greetings.ipynb\" target=\"_parent\"><img src=\"https://colab.research.google.com/assets/colab-badge.svg\" alt=\"Open In Colab\"/></a>"
      ]
    },
    {
      "cell_type": "code",
      "execution_count": null,
      "metadata": {
        "id": "AOx1hb09L7ug"
      },
      "outputs": [],
      "source": []
    },
    {
      "cell_type": "markdown",
      "source": [
        "# **Problem Statement**\n",
        "\n",
        "We've written a helper function for you called greet(name) which takes as input a string name and prints a greeting. Write some code in main() to get the user's name and then greet them, being sure to call the greet(name) helper function.\n",
        "\n",
        "Here's a sample run of the program (user input in bold italics):\n",
        "\n",
        "What's your name? Sophia\n",
        "\n",
        "Greetings Sophia!\n"
      ],
      "metadata": {
        "id": "jBXvA7QcMMBy"
      }
    },
    {
      "cell_type": "code",
      "source": [
        "# Main function to handle user input or print greeting message\n",
        "def main():\n",
        "  # prompt user to write your name\n",
        "  name : str = input(\"What's your name? \")\n",
        "  # print greeting message\n",
        "  print(greet(name))\n",
        "\n",
        "def greet(name):\n",
        "  # return the greeting message\n",
        "  return \"Greetings \" + name + \"!\"\n",
        "\n",
        "# run the code\n",
        "if __name__ == '__main__':\n",
        "    main()"
      ],
      "metadata": {
        "colab": {
          "base_uri": "https://localhost:8080/"
        },
        "id": "rXYq1ZmuMU1t",
        "outputId": "0572a87a-bef4-416f-f186-ffe9beb87b82"
      },
      "execution_count": 3,
      "outputs": [
        {
          "output_type": "stream",
          "name": "stdout",
          "text": [
            "What's your name? kristina\n",
            "Greetings kristina!\n"
          ]
        }
      ]
    }
  ]
}