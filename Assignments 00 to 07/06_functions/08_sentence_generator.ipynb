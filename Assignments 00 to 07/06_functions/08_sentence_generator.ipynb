{
  "nbformat": 4,
  "nbformat_minor": 0,
  "metadata": {
    "colab": {
      "provenance": [],
      "authorship_tag": "ABX9TyOMFDGCzZdz7v7epDHoWzwh",
      "include_colab_link": true
    },
    "kernelspec": {
      "name": "python3",
      "display_name": "Python 3"
    },
    "language_info": {
      "name": "python"
    }
  },
  "cells": [
    {
      "cell_type": "markdown",
      "metadata": {
        "id": "view-in-github",
        "colab_type": "text"
      },
      "source": [
        "<a href=\"https://colab.research.google.com/github/kristinasamuel/Python-Class-Assignment-04/blob/main/Assignments%2000%20to%2007/06_functions/08_sentence_generator.ipynb\" target=\"_parent\"><img src=\"https://colab.research.google.com/assets/colab-badge.svg\" alt=\"Open In Colab\"/></a>"
      ]
    },
    {
      "cell_type": "code",
      "execution_count": null,
      "metadata": {
        "id": "jEHJXsY3REps"
      },
      "outputs": [],
      "source": []
    },
    {
      "cell_type": "markdown",
      "source": [
        "# **Problem Statement**\n",
        "\n",
        "Implement the helper function make_sentence(word, part_of_speech) which will take a string word and an integer part_of_speech as parameters and, depending on the part of speech, place the word into one of three sentence templates (or one from your imagination!):\n",
        "\n",
        "If part_of_speech is 0, we will assume the word is a noun and use the template: \"I am excited to add this ____ to my vast collection of them!\"\n",
        "\n",
        "If part_of_speech is 1, we will assume the word is a verb use the template: \"It's so nice outside today it makes me want to ____!\"\n",
        "\n",
        "If part_of_speech is 2, we will assume the word is an adjective and use the template: \"Looking out my window, the sky is big and ____!\" make_sentence(word, part_of_speech) should not return anything, just print the correct sentence with the word filled in the blank.\n",
        "\n",
        "Here's a sample run of the program (user input is in blue):\n",
        "\n",
        "Please type a noun, verb, or adjective: groovy Is this a noun, verb, or adjective? Type 0 for noun, 1 for verb, 2 for adjective: 2 Looking out my window, the sky is big and groovy!"
      ],
      "metadata": {
        "id": "sAytQioaRLze"
      }
    },
    {
      "cell_type": "code",
      "source": [
        "# This function creates a sentence based on the type of word entered\n",
        "def make_sentence(word,part_of_speech):\n",
        "  if part_of_speech == 0:\n",
        "    print(\"I am excited to add this \" + word + \" to my vast collection of them!\" )\n",
        "  elif part_of_speech == 1:\n",
        "    print(\"It's so nice outside today it makes me want to \" + word + \"!\")\n",
        "  elif part_of_speech == 2:\n",
        "    print(\"Looking out my window, the sky is big and \" + word + \"!\")\n",
        "  else:\n",
        "    print(\"Part of speech must be 0,1,0r 2! Can't make a sentence.\")\n",
        "\n",
        "# Main function to get user input\n",
        "def main():\n",
        "  word : str = input(\"Please type a noun , verb or adjective:\")\n",
        "  print(\"Is this noun, verb , or adjective?\")\n",
        "  part_of_speech = int(input(\"Type 0 for noun, 1 for verb , 2 for adjective:\"))\n",
        "  make_sentence(word,part_of_speech)\n",
        "\n",
        "if __name__ =='__main__':\n",
        "    main()"
      ],
      "metadata": {
        "colab": {
          "base_uri": "https://localhost:8080/"
        },
        "id": "70V_ISxhRbYr",
        "outputId": "44c366ae-d236-4c49-95ae-551ab220284b"
      },
      "execution_count": 4,
      "outputs": [
        {
          "output_type": "stream",
          "name": "stdout",
          "text": [
            "Please type a noun , verb or adjective:star\n",
            "Is this noun, verb , or adjective?\n",
            "Type 0 for noun, 1 for verb , 2 for adjective:0\n",
            "I am excited to add this star to my vast collection of them!\n"
          ]
        }
      ]
    }
  ]
}