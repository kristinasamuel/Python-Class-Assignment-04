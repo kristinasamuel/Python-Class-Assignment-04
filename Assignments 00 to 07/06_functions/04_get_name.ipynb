{
  "nbformat": 4,
  "nbformat_minor": 0,
  "metadata": {
    "colab": {
      "provenance": [],
      "authorship_tag": "ABX9TyPu+Qe3QrSS8gL1ws2aDKLw",
      "include_colab_link": true
    },
    "kernelspec": {
      "name": "python3",
      "display_name": "Python 3"
    },
    "language_info": {
      "name": "python"
    }
  },
  "cells": [
    {
      "cell_type": "markdown",
      "metadata": {
        "id": "view-in-github",
        "colab_type": "text"
      },
      "source": [
        "<a href=\"https://colab.research.google.com/github/kristinasamuel/Python-Class-Assignment-04/blob/main/Assignments%2000%20to%2007/06_functions/04_get_name.ipynb\" target=\"_parent\"><img src=\"https://colab.research.google.com/assets/colab-badge.svg\" alt=\"Open In Colab\"/></a>"
      ]
    },
    {
      "cell_type": "markdown",
      "source": [
        "# **Problem Statement**\n",
        "\n",
        "Fill out the get_name() function to return your name as a string! We've written a main() function for you which calls your function to retrieve your name and then prints it in a greeting.\n",
        "\n",
        "Here's a sample run of the program where the name we've decided to return is Sophia (the autograder expects the returned name to be Sophia):\n",
        "\n",
        "Hello Karistina ! 🤠"
      ],
      "metadata": {
        "id": "SU_UimziH-IK"
      }
    },
    {
      "cell_type": "code",
      "source": [
        "# function  return your name\n",
        "def get_name():\n",
        "  return \"Karistina\"\n",
        "\n",
        "def main():\n",
        "  name = get_name()\n",
        "  #  print name\n",
        "  print(\"Hello\" , name,\"! 🤠\")\n",
        "\n",
        "if __name__ == '__main__':\n",
        "    main()\n"
      ],
      "metadata": {
        "colab": {
          "base_uri": "https://localhost:8080/"
        },
        "id": "j1LqNou1IPNC",
        "outputId": "21ce36cd-fedf-47a0-9928-8c8a7e332872"
      },
      "execution_count": 6,
      "outputs": [
        {
          "output_type": "stream",
          "name": "stdout",
          "text": [
            "Hello Karistina ! 🤠\n"
          ]
        }
      ]
    }
  ]
}