{
  "nbformat": 4,
  "nbformat_minor": 0,
  "metadata": {
    "colab": {
      "provenance": [],
      "authorship_tag": "ABX9TyMnkJP+K89r7orCTxXr7Dfe",
      "include_colab_link": true
    },
    "kernelspec": {
      "name": "python3",
      "display_name": "Python 3"
    },
    "language_info": {
      "name": "python"
    }
  },
  "cells": [
    {
      "cell_type": "markdown",
      "metadata": {
        "id": "view-in-github",
        "colab_type": "text"
      },
      "source": [
        "<a href=\"https://colab.research.google.com/github/kristinasamuel/Python-Class-Assignment-04/blob/main/Assignments%2000%20to%2007/06_functions/00_averages.ipynb\" target=\"_parent\"><img src=\"https://colab.research.google.com/assets/colab-badge.svg\" alt=\"Open In Colab\"/></a>"
      ]
    },
    {
      "cell_type": "code",
      "execution_count": null,
      "metadata": {
        "id": "VPZI5LAJ-L2-"
      },
      "outputs": [],
      "source": []
    },
    {
      "cell_type": "markdown",
      "source": [
        "# **Problem Statement**\n",
        "\n",
        "Write a function that takes two numbers and finds the average between the two."
      ],
      "metadata": {
        "id": "2q0hktVX-QxH"
      }
    },
    {
      "cell_type": "code",
      "source": [
        "# Function to calculate the average of two float numbers\n",
        "def average(a:float , b:float):\n",
        "  sum = a + b   # Add the two numbers\n",
        "  return sum / 2  # Return average\n",
        "\n",
        "\n",
        "def main():\n",
        "  avg_1 = average(4, 10)\n",
        "  avg_2 = average(12, 10)\n",
        "  final = average(avg_1 , avg_2)\n",
        "\n",
        "  # print the result\n",
        "  print(\"avg_1 :\" , avg_1)\n",
        "  print(\"avg_2 :\" , avg_2)\n",
        "  print(\"final result\" , final)\n",
        "\n",
        "# Run the main function\n",
        "if __name__ == '__main__':\n",
        "  main()"
      ],
      "metadata": {
        "colab": {
          "base_uri": "https://localhost:8080/"
        },
        "id": "KTCsCDm5-W2y",
        "outputId": "7a3d87a4-2e9f-4d3c-ed6b-955fa7f77c59"
      },
      "execution_count": 4,
      "outputs": [
        {
          "output_type": "stream",
          "name": "stdout",
          "text": [
            "avg_1 : 7.0\n",
            "avg_2 : 11.0\n",
            "final result 9.0\n"
          ]
        }
      ]
    }
  ]
}