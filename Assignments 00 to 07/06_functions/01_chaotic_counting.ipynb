{
  "nbformat": 4,
  "nbformat_minor": 0,
  "metadata": {
    "colab": {
      "provenance": [],
      "authorship_tag": "ABX9TyMU+S39l8LlQkyDEP/QDgI3",
      "include_colab_link": true
    },
    "kernelspec": {
      "name": "python3",
      "display_name": "Python 3"
    },
    "language_info": {
      "name": "python"
    }
  },
  "cells": [
    {
      "cell_type": "markdown",
      "metadata": {
        "id": "view-in-github",
        "colab_type": "text"
      },
      "source": [
        "<a href=\"https://colab.research.google.com/github/kristinasamuel/Python-Class-Assignment-04/blob/main/Assignments%2000%20to%2007/06_functions/01_chaotic_counting.ipynb\" target=\"_parent\"><img src=\"https://colab.research.google.com/assets/colab-badge.svg\" alt=\"Open In Colab\"/></a>"
      ]
    },
    {
      "cell_type": "markdown",
      "source": [
        "# **Problem Statement**\n",
        "\n",
        "Fill out the chaotic_counting() function, which prints the numbers from 1 to 10, but with a catch. We've written a done() function which returns True with likelihood DONE_LIKELIHOOD -- at each number, before printing the number, you should call done() and check if it returns True or not. If done() returns True, we're done counting, and you should use a return statement to end the chaotic_counting() function execution and resume execution of main(), which will print \"I'm done.\". We've written main() for you -- check it out! Notice that we'll only print \"I'm done\" from main() once chaotic_counting() is done with its execution.\n",
        "\n",
        "Here's a sample run of this program:\n",
        "\n",
        "I'm going to count until 10 or until I feel like stopping, whichever comes first. 1 2 3 I'm done."
      ],
      "metadata": {
        "id": "oh8_UcyfATqO"
      }
    },
    {
      "cell_type": "code",
      "source": [
        "import random  #generating random numbers\n",
        "\n",
        "# This value controls how likely it is that the counting will stop early\n",
        "DONE_LIKELIHOOD = 0.3  # 30% chance to stop on each number\n",
        "\n",
        "# Function that performs chaotic counting\n",
        "def chaotic_counting():\n",
        "    for i in range(10):  # Loop from 0 to 9\n",
        "        curr_num = i + 1  # Adjust to start from 1 to 10\n",
        "        if done():        # Random chance to stop early\n",
        "            return        # Exit the function early if done\n",
        "        print(curr_num)   # Print the current number\n",
        "\n",
        "# Function that randomly decides whether to stop\n",
        "def done():\n",
        "    if random.random() < DONE_LIKELIHOOD:\n",
        "        return True\n",
        "    return False\n",
        "\n",
        "# Main function to run the program\n",
        "def main():\n",
        "    print(\"I'm going to count until 10 or until I feel like stopping, whichever comes first.\")\n",
        "    chaotic_counting()  # call function chaotic counting\n",
        "    print(\"I'm done\")   # Print this when the loop ends\n",
        "\n",
        "if __name__ == \"__main__\":\n",
        "    main()\n"
      ],
      "metadata": {
        "colab": {
          "base_uri": "https://localhost:8080/"
        },
        "id": "tymm2mm3Aw6h",
        "outputId": "a72698d7-d419-4634-a43b-cd650939f6dc"
      },
      "execution_count": 6,
      "outputs": [
        {
          "output_type": "stream",
          "name": "stdout",
          "text": [
            "I'm going to count until 10 or until I feel like stopping, whichever comes first.\n",
            "1\n",
            "2\n",
            "3\n",
            "4\n",
            "5\n",
            "6\n",
            "7\n",
            "I'm done\n"
          ]
        }
      ]
    }
  ]
}