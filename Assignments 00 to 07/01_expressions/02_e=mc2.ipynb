{
  "nbformat": 4,
  "nbformat_minor": 0,
  "metadata": {
    "colab": {
      "provenance": [],
      "authorship_tag": "ABX9TyNoi4/IasjAAi4RwPY9HKVQ",
      "include_colab_link": true
    },
    "kernelspec": {
      "name": "python3",
      "display_name": "Python 3"
    },
    "language_info": {
      "name": "python"
    }
  },
  "cells": [
    {
      "cell_type": "markdown",
      "metadata": {
        "id": "view-in-github",
        "colab_type": "text"
      },
      "source": [
        "<a href=\"https://colab.research.google.com/github/kristinasamuel/Python-Class-Assignment-04/blob/main/Assignments%2000%20to%2007/01_expressions/02_e%3Dmc2.ipynb\" target=\"_parent\"><img src=\"https://colab.research.google.com/assets/colab-badge.svg\" alt=\"Open In Colab\"/></a>"
      ]
    },
    {
      "cell_type": "code",
      "execution_count": null,
      "metadata": {
        "id": "iqcHac8o-WMj"
      },
      "outputs": [],
      "source": []
    },
    {
      "cell_type": "markdown",
      "source": [
        "# **Problem Statement**\n",
        "\n",
        "Write a program that continually reads in mass from the user and then outputs the equivalent energy using Einstein's mass-energy equivalence formula (E stands for energy, m stands for mass, and C is the speed of light:\n",
        "\n",
        "E = m * c**2\n",
        "\n",
        "Almost 100 years ago, Albert Einstein famously discovered that mass and energy are interchangeable and are related by the above equation. You should ask the user for mass (m) in kilograms and use a constant value for the speed of light -- C = 299792458 m/s.\n",
        "\n",
        "Here's a sample run of the program (user input is in bold italics):\n",
        "Enter kilos of mass: 100\n",
        "\n",
        "e = m * C^2...\n",
        "\n",
        "m = 100.0 kg\n",
        "\n",
        "C = 299792458 m/s\n",
        "\n",
        "8.987551787368176e+18 joules of energy!"
      ],
      "metadata": {
        "id": "LgQHvCS3-9A2"
      }
    },
    {
      "cell_type": "code",
      "source": [
        "# Energy Calculation using E = mc^2\n",
        "\n",
        "def main():\n",
        "    # Calculates energy using Einstein's mass-energy equivalence formula\n",
        "    c: float = 299792458  # Speed of light in meters per second\n",
        "    m: float = float(input(\"Enter kilos of mass: \")) # Taking mass input from user\n",
        "\n",
        "    print(\"e = m * C^2...\")\n",
        "    print(\"Mass = \" + str(m) + \" kg\")\n",
        "    print(\"C = \" + str(c) + \" m/s\")\n",
        "    print(\"e = \" + str(m * c ** 2) + \" joules\")\n",
        "\n",
        "# script runs\n",
        "if __name__ == \"__main__\":\n",
        "    main()\n",
        "\n"
      ],
      "metadata": {
        "colab": {
          "base_uri": "https://localhost:8080/"
        },
        "id": "PGv4E6gE_mWW",
        "outputId": "cd538bba-57c6-4f65-e3ff-583a0fe028c4"
      },
      "execution_count": 2,
      "outputs": [
        {
          "output_type": "stream",
          "name": "stdout",
          "text": [
            "Enter kilos of mass: 33\n",
            "e = m * C^2...\n",
            "Mass = 33.0 kg\n",
            "C = 299792458 m/s\n",
            "e = 2.965892089831498e+18 joules\n"
          ]
        }
      ]
    }
  ]
}