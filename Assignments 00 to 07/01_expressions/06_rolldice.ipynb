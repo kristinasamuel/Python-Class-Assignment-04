{
  "nbformat": 4,
  "nbformat_minor": 0,
  "metadata": {
    "colab": {
      "provenance": [],
      "authorship_tag": "ABX9TyPBfqy9ds5B8C33NzJq0mMs",
      "include_colab_link": true
    },
    "kernelspec": {
      "name": "python3",
      "display_name": "Python 3"
    },
    "language_info": {
      "name": "python"
    }
  },
  "cells": [
    {
      "cell_type": "markdown",
      "metadata": {
        "id": "view-in-github",
        "colab_type": "text"
      },
      "source": [
        "<a href=\"https://colab.research.google.com/github/kristinasamuel/Python-Class-Assignment-04/blob/main/Assignments%2000%20to%2007/01_expressions/06_rolldice.ipynb\" target=\"_parent\"><img src=\"https://colab.research.google.com/assets/colab-badge.svg\" alt=\"Open In Colab\"/></a>"
      ]
    },
    {
      "cell_type": "code",
      "execution_count": null,
      "metadata": {
        "id": "2De-oWU6qJw_"
      },
      "outputs": [],
      "source": []
    },
    {
      "cell_type": "markdown",
      "source": [
        "# **Problem Statement**\n",
        "\n",
        "Simulate rolling two dice, and prints results of each roll as well as the total."
      ],
      "metadata": {
        "id": "ivkUbofrqOtR"
      }
    },
    {
      "cell_type": "code",
      "source": [
        "import random\n",
        "\n",
        "# Number of sides on each die\n",
        "num_sides: int = 6\n",
        "\n",
        "def main():\n",
        "    print(\"Rolling dice...\")\n",
        "    # Generating random values for two dice\n",
        "    die_1: int = random.randint(1, num_sides)\n",
        "    die_2: int = random.randint(1, num_sides)\n",
        "    total: int = die_1 + die_2\n",
        "\n",
        "    # Displaying results\n",
        "    print(f\"Dice have {num_sides} sides each.\")\n",
        "    print(f\"First die: {die_1}\")\n",
        "    print(f\"Second die: {die_2}\")\n",
        "    print(f\"Total of two dice: {total}\")\n",
        "\n",
        "# Ensuring the script runs only when executed directly\n",
        "if __name__ == \"__main__\":\n",
        "    main()"
      ],
      "metadata": {
        "colab": {
          "base_uri": "https://localhost:8080/"
        },
        "id": "FmwPtid8qaX-",
        "outputId": "798fae1e-07e1-48d1-9aa9-f2ddde8b2108"
      },
      "execution_count": 9,
      "outputs": [
        {
          "output_type": "stream",
          "name": "stdout",
          "text": [
            "Rolling dice...\n",
            "Dice have 6 sides each.\n",
            "First die: 4\n",
            "Second die: 1\n",
            "Total of two dice: 5\n"
          ]
        }
      ]
    }
  ]
}