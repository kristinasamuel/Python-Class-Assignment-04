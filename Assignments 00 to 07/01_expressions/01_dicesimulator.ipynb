{
  "nbformat": 4,
  "nbformat_minor": 0,
  "metadata": {
    "colab": {
      "provenance": [],
      "authorship_tag": "ABX9TyOEcCYzHnuDJNbbSgX8FJco",
      "include_colab_link": true
    },
    "kernelspec": {
      "name": "python3",
      "display_name": "Python 3"
    },
    "language_info": {
      "name": "python"
    }
  },
  "cells": [
    {
      "cell_type": "markdown",
      "metadata": {
        "id": "view-in-github",
        "colab_type": "text"
      },
      "source": [
        "<a href=\"https://colab.research.google.com/github/kristinasamuel/Python-Class-Assignment-04/blob/main/Assignments%2000%20to%2007/01_expressions/01_dicesimulator.ipynb\" target=\"_parent\"><img src=\"https://colab.research.google.com/assets/colab-badge.svg\" alt=\"Open In Colab\"/></a>"
      ]
    },
    {
      "cell_type": "code",
      "execution_count": null,
      "metadata": {
        "id": "iKRUB3EOwjKo"
      },
      "outputs": [],
      "source": []
    },
    {
      "cell_type": "markdown",
      "source": [
        "# **Problem Statement**\n",
        "Simulate rolling two dice, three times. Prints the results of each die roll. This program is used to show how variable scope works."
      ],
      "metadata": {
        "id": "3r1dTQQxwsL1"
      }
    },
    {
      "cell_type": "code",
      "source": [
        "import random\n",
        "\n",
        "print(\" Dice Simulator Program\")\n",
        "\n",
        "# Dice simulator program\n",
        "def roll_dice():\n",
        "    die_1: int = random.randint(1, 6)\n",
        "    die_2: int = random.randint(1, 6)\n",
        "    total: int = die_1 + die_2\n",
        "    print(f\"Total of two dice: {total}\")\n",
        "\n",
        "def main():\n",
        "    die_1: int = 10  # Local variable in main()\n",
        "    print(\"die_1 in main() starts as: \" + str(die_1))\n",
        "    roll_dice()\n",
        "    roll_dice()\n",
        "    roll_dice()\n",
        "    print(\"die_1 in main() is: \" + str(die_1))\n",
        "\n",
        "# Ensuring the script runs only when executed directly\n",
        "if __name__ == \"__main__\":\n",
        "    main()"
      ],
      "metadata": {
        "colab": {
          "base_uri": "https://localhost:8080/"
        },
        "id": "3HGUGRkNynVh",
        "outputId": "14d2f361-6f83-4461-f4fd-c489984908fc"
      },
      "execution_count": 2,
      "outputs": [
        {
          "output_type": "stream",
          "name": "stdout",
          "text": [
            "01_dicesimulator\n",
            "die_1 in main() starts as: 10\n",
            "Total of two dice: 9\n",
            "Total of two dice: 9\n",
            "Total of two dice: 8\n",
            "die_1 in main() is: 10\n"
          ]
        }
      ]
    }
  ]
}