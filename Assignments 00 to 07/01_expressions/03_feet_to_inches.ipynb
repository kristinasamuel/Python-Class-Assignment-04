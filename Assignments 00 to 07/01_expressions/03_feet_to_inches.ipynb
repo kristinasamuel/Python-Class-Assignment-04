{
  "nbformat": 4,
  "nbformat_minor": 0,
  "metadata": {
    "colab": {
      "provenance": [],
      "authorship_tag": "ABX9TyPQEvLAcnjY5dkePlRPSLAI",
      "include_colab_link": true
    },
    "kernelspec": {
      "name": "python3",
      "display_name": "Python 3"
    },
    "language_info": {
      "name": "python"
    }
  },
  "cells": [
    {
      "cell_type": "markdown",
      "metadata": {
        "id": "view-in-github",
        "colab_type": "text"
      },
      "source": [
        "<a href=\"https://colab.research.google.com/github/kristinasamuel/Python-Class-Assignment-04/blob/main/Assignments%2000%20to%2007/01_expressions/03_feet_to_inches.ipynb\" target=\"_parent\"><img src=\"https://colab.research.google.com/assets/colab-badge.svg\" alt=\"Open In Colab\"/></a>"
      ]
    },
    {
      "cell_type": "code",
      "execution_count": null,
      "metadata": {
        "id": "e9cmJ3-aCEZe"
      },
      "outputs": [],
      "source": []
    },
    {
      "cell_type": "markdown",
      "source": [
        "# **Problem Statement**\n",
        "\n",
        "Converts feet to inches. Feet is an American unit of measurement. There are 12 inches per foot. Foot is the singular, and feet is the plural."
      ],
      "metadata": {
        "id": "3ATWduqTCQtc"
      }
    },
    {
      "cell_type": "code",
      "source": [
        "# Feet to Inches Converter\n",
        "# Constant for conversion\n",
        "inches_in_foot: int = 12\n",
        "\n",
        "def main():\n",
        "    # Converts feet to inches and prints the result.\n",
        "    # Taking input from user\n",
        "    feet: float = float(input(\"Enter number of feet: \"))\n",
        "\n",
        "    # Converting feet to inches\n",
        "    inches: float = feet * inches_in_foot\n",
        "\n",
        "    # Displaying result using formatted string\n",
        "    print(f\"{feet} feet is equal to {inches} inches.\")\n",
        "\n",
        "# Ensuring the script runs only when executed directly\n",
        "if __name__ == \"__main__\":\n",
        "    main()"
      ],
      "metadata": {
        "colab": {
          "base_uri": "https://localhost:8080/"
        },
        "id": "LSBYbYGWCj6W",
        "outputId": "794fec59-2d53-479b-f62c-eacc030f2d65"
      },
      "execution_count": 2,
      "outputs": [
        {
          "output_type": "stream",
          "name": "stdout",
          "text": [
            "Enter number of feet: 23\n",
            "23.0 feet is equal to 276.0 inches.\n"
          ]
        }
      ]
    }
  ]
}