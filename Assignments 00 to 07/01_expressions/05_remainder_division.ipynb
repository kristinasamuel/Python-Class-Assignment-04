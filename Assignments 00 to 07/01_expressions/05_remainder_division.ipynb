{
  "nbformat": 4,
  "nbformat_minor": 0,
  "metadata": {
    "colab": {
      "provenance": [],
      "authorship_tag": "ABX9TyPIZ9BIAY6dCfUGiiLeCPhA",
      "include_colab_link": true
    },
    "kernelspec": {
      "name": "python3",
      "display_name": "Python 3"
    },
    "language_info": {
      "name": "python"
    }
  },
  "cells": [
    {
      "cell_type": "markdown",
      "metadata": {
        "id": "view-in-github",
        "colab_type": "text"
      },
      "source": [
        "<a href=\"https://colab.research.google.com/github/kristinasamuel/Python-Class-Assignment-04/blob/main/Assignments%2000%20to%2007/01_expressions/05_remainder_division.ipynb\" target=\"_parent\"><img src=\"https://colab.research.google.com/assets/colab-badge.svg\" alt=\"Open In Colab\"/></a>"
      ]
    },
    {
      "cell_type": "code",
      "execution_count": null,
      "metadata": {
        "id": "pLxCXEiPmUxX"
      },
      "outputs": [],
      "source": []
    },
    {
      "cell_type": "markdown",
      "source": [
        "# **Problem Statement**\n",
        "\n",
        "Ask the user for two numbers, one at a time, and then print the result of dividing the first number by the second and also the remainder of the division.\n",
        "\n",
        "Here's a sample run of the program (user input is in bold italics):\n",
        "\n",
        "Please enter an integer to be divided: 5\n",
        "\n",
        "Please enter an integer to divide by: 3\n",
        "\n",
        "The result of this division is 1 with a remainder of 2\n"
      ],
      "metadata": {
        "id": "LtK6ikX1mcCO"
      }
    },
    {
      "cell_type": "code",
      "source": [
        "#  Asks the user for two numbers and prints the result of division and remainder.\n",
        "# Division Calculator\n",
        "def main():\n",
        "  # user input\n",
        "  divident: int = int(input(\"Please enter a number to be divided: \"))\n",
        "  divisor: int = int(input(\"Please enter a number to divided by: \"))\n",
        "   # Calculating quotient and remainder\n",
        "  quotient: int = divident // divisor\n",
        "  remainder: int = divident % divisor\n",
        "  # Displaying the result\n",
        "  print(f\"The result of this division is {quotient} with a remainder of {remainder}.\")\n",
        "\n",
        "# script run\n",
        "if __name__ == '__main__':\n",
        "  main()"
      ],
      "metadata": {
        "colab": {
          "base_uri": "https://localhost:8080/"
        },
        "id": "msGA692omxiM",
        "outputId": "5034bab0-440f-455f-89a8-5184e7226fbb"
      },
      "execution_count": 1,
      "outputs": [
        {
          "output_type": "stream",
          "name": "stdout",
          "text": [
            "Please enter a number to be divided: 33\n",
            "Please enter a number to divided by: 3\n",
            "The result of this division is 11 with a remainder of 0.\n"
          ]
        }
      ]
    }
  ]
}