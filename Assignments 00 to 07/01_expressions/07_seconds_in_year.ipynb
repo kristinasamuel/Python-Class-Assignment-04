{
  "nbformat": 4,
  "nbformat_minor": 0,
  "metadata": {
    "colab": {
      "provenance": [],
      "authorship_tag": "ABX9TyOATl+FYadxg8T9g2R16i7u",
      "include_colab_link": true
    },
    "kernelspec": {
      "name": "python3",
      "display_name": "Python 3"
    },
    "language_info": {
      "name": "python"
    }
  },
  "cells": [
    {
      "cell_type": "markdown",
      "metadata": {
        "id": "view-in-github",
        "colab_type": "text"
      },
      "source": [
        "<a href=\"https://colab.research.google.com/github/kristinasamuel/Python-Class-Assignment-04/blob/main/Assignments%2000%20to%2007/01_expressions/07_seconds_in_year.ipynb\" target=\"_parent\"><img src=\"https://colab.research.google.com/assets/colab-badge.svg\" alt=\"Open In Colab\"/></a>"
      ]
    },
    {
      "cell_type": "code",
      "execution_count": null,
      "metadata": {
        "id": "uIN8DfAntv4L"
      },
      "outputs": [],
      "source": []
    },
    {
      "cell_type": "markdown",
      "source": [
        "# **Problem Statement**\n",
        "\n",
        "Use Python to calculate the number of seconds in a year, and tell the user what the result is in a nice print statement that looks like this (of course the value 5 should be the calculated number instead):\n",
        "\n",
        "There are 5 seconds in a year!\n",
        "\n",
        "You should use constants for this exercise -- there are 365 days in a year, 24 hours in a day, 60 minutes in an hour, and 60 seconds per minute."
      ],
      "metadata": {
        "id": "rpQPKZDbt3tZ"
      }
    },
    {
      "cell_type": "code",
      "source": [
        "# Calculating seconds in a year\n",
        "days_per_year: int = 365\n",
        "hours_per_day: int = 24\n",
        "min_per_hour: int = 60\n",
        "sec_per_min: int = 60\n",
        "total_seconds: int = days_per_year * hours_per_day * min_per_hour * sec_per_min\n",
        "\n",
        "def main():\n",
        "# Displaying the total seconds in a year\n",
        "  print(f\"There are {total_seconds} seconds in a year.\")\n",
        "\n",
        "# Ensuring the script runs only when executed directly\n",
        "if __name__ == \"__main__\":\n",
        "    main()\n",
        "\n"
      ],
      "metadata": {
        "colab": {
          "base_uri": "https://localhost:8080/"
        },
        "id": "Q38Rbf9AuBLe",
        "outputId": "3d86c501-e588-4fd1-b3f0-0ea4b30c0152"
      },
      "execution_count": 7,
      "outputs": [
        {
          "output_type": "stream",
          "name": "stdout",
          "text": [
            "There are 31536000 seconds in a year.\n"
          ]
        }
      ]
    }
  ]
}