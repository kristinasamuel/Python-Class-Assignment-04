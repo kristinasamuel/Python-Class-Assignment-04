{
  "nbformat": 4,
  "nbformat_minor": 0,
  "metadata": {
    "colab": {
      "provenance": [],
      "authorship_tag": "ABX9TyPnUAHOJYX6RMXuBBZ3iXtI",
      "include_colab_link": true
    },
    "kernelspec": {
      "name": "python3",
      "display_name": "Python 3"
    },
    "language_info": {
      "name": "python"
    }
  },
  "cells": [
    {
      "cell_type": "markdown",
      "metadata": {
        "id": "view-in-github",
        "colab_type": "text"
      },
      "source": [
        "<a href=\"https://colab.research.google.com/github/kristinasamuel/Python-Class-Assignment-04/blob/main/Assignments%2000%20to%2007/05_loops_control_flow/01_fibonacci.ipynb\" target=\"_parent\"><img src=\"https://colab.research.google.com/assets/colab-badge.svg\" alt=\"Open In Colab\"/></a>"
      ]
    },
    {
      "cell_type": "code",
      "execution_count": null,
      "metadata": {
        "id": "UMl3LEo4soTR"
      },
      "outputs": [],
      "source": []
    },
    {
      "cell_type": "markdown",
      "source": [
        "# **Problem Statement**\n",
        "Write a program to print terms in the Fibonacci sequence up to a maximum value.\n",
        "\n",
        "In the 13th century, the Italian mathematician Leonardo Fibonacci, as a way to explain the geometric growth of a population of rabbits, devised a mathematical sequence that now bears his name. The first two terms in this sequence, Fib(0) and Fib(1), are 0 and 1, and every subsequent term is the sum of the preceding two. Thus, the first several terms in the Fibonacci sequence look like this:\n",
        "\n",
        "Fib(0) = 0 Fib(1) = 1 Fib(2) = 1 = 0 + 1 Fib(3) = 2 = 1 + 1 Fib(4) = 3 = 1 + 2 Fib(5) = 5 = 2 + 3\n",
        "\n",
        "Write a program that displays the terms in the Fibonacci sequence, starting with Fib(0) and continuing as long as the terms are less than 10,000 (you should store this value as a constant!). Thus, your program should produce the following sample run:\n",
        "\n",
        "0 1 1 2 3 5 8 13 21 34 55 89 144 233 377 610 987 1597 2584 4181 6765"
      ],
      "metadata": {
        "id": "GHcyTOIcswoL"
      }
    },
    {
      "cell_type": "code",
      "source": [
        "# Maximum value up to which we want to print Fibonacci numbers\n",
        "MAX_TERM_VALUE: int = 10000\n",
        "\n",
        "def main():\n",
        "    # Start with the first two Fibonacci numbers\n",
        "    curr_term = 0  # 0th Fibonacci number\n",
        "    next_term = 1  # 1st Fibonacci number\n",
        "\n",
        "    #\n",
        "    while curr_term <= MAX_TERM_VALUE:\n",
        "        print(curr_term)  # Print the current term\n",
        "\n",
        "        # Calculate the next term in the sequence\n",
        "        term_after_next = curr_term + next_term\n",
        "\n",
        "        # Update values for the next loop iteration\n",
        "        curr_term = next_term\n",
        "        next_term = term_after_next\n",
        "\n",
        "# Run the program\n",
        "if __name__ == '__main__':\n",
        "    main()"
      ],
      "metadata": {
        "colab": {
          "base_uri": "https://localhost:8080/"
        },
        "id": "uFwHUEZMtFz1",
        "outputId": "c97e4eed-182a-4c59-8dc4-e70759f673da"
      },
      "execution_count": 1,
      "outputs": [
        {
          "output_type": "stream",
          "name": "stdout",
          "text": [
            "0\n",
            "1\n",
            "1\n",
            "2\n",
            "3\n",
            "5\n",
            "8\n",
            "13\n",
            "21\n",
            "34\n",
            "55\n",
            "89\n",
            "144\n",
            "233\n",
            "377\n",
            "610\n",
            "987\n",
            "1597\n",
            "2584\n",
            "4181\n",
            "6765\n"
          ]
        }
      ]
    }
  ]
}