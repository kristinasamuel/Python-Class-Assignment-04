{
  "nbformat": 4,
  "nbformat_minor": 0,
  "metadata": {
    "colab": {
      "provenance": [],
      "authorship_tag": "ABX9TyNg15EOjRcwjJpP/Jcbnqrw",
      "include_colab_link": true
    },
    "kernelspec": {
      "name": "python3",
      "display_name": "Python 3"
    },
    "language_info": {
      "name": "python"
    }
  },
  "cells": [
    {
      "cell_type": "markdown",
      "metadata": {
        "id": "view-in-github",
        "colab_type": "text"
      },
      "source": [
        "<a href=\"https://colab.research.google.com/github/kristinasamuel/Python-Class-Assignment-04/blob/main/Assignments%2000%20to%2007/05_loops_control_flow/02_print_events.ipynb\" target=\"_parent\"><img src=\"https://colab.research.google.com/assets/colab-badge.svg\" alt=\"Open In Colab\"/></a>"
      ]
    },
    {
      "cell_type": "markdown",
      "source": [
        "# **Problem Statement**\n",
        "Write a program that prints the first 20 even numbers. There are several correct approaches, but they all use a loop of some sort. Do no write twenty print statements\n",
        "\n",
        "The first even number is 0:\n",
        "\n",
        "0 2 4 6 8 10 12 14 16 18 20 22 24 26 28 30 32 34 36 38"
      ],
      "metadata": {
        "id": "GJ8M3mHQ4RCi"
      }
    },
    {
      "cell_type": "code",
      "source": [
        "# print first 20 even number\n",
        "def main():\n",
        "  # for loop start 0 to 19\n",
        "  for i in range(20):\n",
        "    print(i * 2)\n",
        "#  run code\n",
        "if __name__ =='__main__':\n",
        "  main()"
      ],
      "metadata": {
        "colab": {
          "base_uri": "https://localhost:8080/"
        },
        "id": "7WpjzxaS4aNZ",
        "outputId": "3439c7f3-bfe5-410f-a35b-5bb24e14b46b"
      },
      "execution_count": 3,
      "outputs": [
        {
          "output_type": "stream",
          "name": "stdout",
          "text": [
            "0\n",
            "2\n",
            "4\n",
            "6\n",
            "8\n",
            "10\n",
            "12\n",
            "14\n",
            "16\n",
            "18\n"
          ]
        }
      ]
    }
  ]
}