{
  "nbformat": 4,
  "nbformat_minor": 0,
  "metadata": {
    "colab": {
      "provenance": [],
      "authorship_tag": "ABX9TyPUXz7Y8DGla9wojNreLn4k",
      "include_colab_link": true
    },
    "kernelspec": {
      "name": "python3",
      "display_name": "Python 3"
    },
    "language_info": {
      "name": "python"
    }
  },
  "cells": [
    {
      "cell_type": "markdown",
      "metadata": {
        "id": "view-in-github",
        "colab_type": "text"
      },
      "source": [
        "<a href=\"https://colab.research.google.com/github/kristinasamuel/Python-Class-Assignment-04/blob/main/Assignments%2000%20to%2007/05_loops_control_flow/03_wholesome_machine.ipynb\" target=\"_parent\"><img src=\"https://colab.research.google.com/assets/colab-badge.svg\" alt=\"Open In Colab\"/></a>"
      ]
    },
    {
      "cell_type": "markdown",
      "source": [
        "# **Problem Statement**\n",
        "\n",
        "Write a program which prompts the user to type an affirmation of your choice (we'll use \"I am capable of doing anything I put my mind to.\") until they type it correctly. Sometimes, especially in the midst of such uncertain times, we just need to be reminded that we are resilient, capable, and strong; this little Python program may be able to help!\n",
        "\n",
        "Here's a sample run of the program (user input is in blue):\n",
        "\n",
        "Please type the following affirmation: I am capable of doing anything I put my mind to. Hmmm That was not the affirmation. Please type the following affirmation: I am capable of doing anything I put my mind to. I am capable of doing anything I put my mind to. That's right! :)\n",
        "\n",
        "Note that you can call input() with no prompt and it will still wait for a user to type something!"
      ],
      "metadata": {
        "id": "Nig204yJ5eQg"
      }
    },
    {
      "cell_type": "code",
      "source": [
        "# Define the affirmation string that the user needs to type exactly\n",
        "affirmation: str = \"I am capable of doing anything I put my mind to.\"\n",
        "\n",
        "# Main function that handles user input and checking\n",
        "def main():\n",
        "    print(\"Please type the following affirmation: \" + affirmation)\n",
        "    # Take user input\n",
        "    user_feedback = input()\n",
        "    # Loop until the user types the correct affirmation\n",
        "    while user_feedback != affirmation:\n",
        "      print(\"That was not the affirmation.\")\n",
        "\n",
        "      print(\"Please type the following affirmation: \" + affirmation)\n",
        "      user_feedback = input()\n",
        "      # When the loop ends, it means the correct affirmation was entered\n",
        "    print(\"That's right! :\")\n",
        "# run script\n",
        "if __name__ == '__main__':\n",
        "    main()"
      ],
      "metadata": {
        "colab": {
          "base_uri": "https://localhost:8080/"
        },
        "id": "HncG0vhS5nwt",
        "outputId": "59845679-de1c-41e1-9901-b4b3034d3163"
      },
      "execution_count": 3,
      "outputs": [
        {
          "output_type": "stream",
          "name": "stdout",
          "text": [
            "Please type the following affirmation: I am capable of doing anything I put my mind to.\n",
            "i am capable\n",
            "That was not the affirmation.\n",
            "Please type the following affirmation: I am capable of doing anything I put my mind to.\n",
            "I am capable of doing anything I put my mind to.\n",
            "That's right! :\n"
          ]
        }
      ]
    }
  ]
}