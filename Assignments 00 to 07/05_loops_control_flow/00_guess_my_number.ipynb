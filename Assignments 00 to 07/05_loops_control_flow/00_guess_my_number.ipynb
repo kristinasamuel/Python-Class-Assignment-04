{
  "nbformat": 4,
  "nbformat_minor": 0,
  "metadata": {
    "colab": {
      "provenance": [],
      "authorship_tag": "ABX9TyPH5w7Mx8MnLHlcd0UB1sB2",
      "include_colab_link": true
    },
    "kernelspec": {
      "name": "python3",
      "display_name": "Python 3"
    },
    "language_info": {
      "name": "python"
    }
  },
  "cells": [
    {
      "cell_type": "markdown",
      "metadata": {
        "id": "view-in-github",
        "colab_type": "text"
      },
      "source": [
        "<a href=\"https://colab.research.google.com/github/kristinasamuel/Python-Class-Assignment-04/blob/main/Assignments%2000%20to%2007/05_loops_control_flow/00_guess_my_number.ipynb\" target=\"_parent\"><img src=\"https://colab.research.google.com/assets/colab-badge.svg\" alt=\"Open In Colab\"/></a>"
      ]
    },
    {
      "cell_type": "code",
      "execution_count": null,
      "metadata": {
        "id": "bHCRp9Crn1lR"
      },
      "outputs": [],
      "source": []
    },
    {
      "cell_type": "markdown",
      "source": [
        "# **Problem Statement**\n",
        "\n",
        "Guess My Number\n",
        "\n",
        "I am thinking of a number between 0 and 99... Enter a guess: 50 Your guess is too high\n",
        "\n",
        "Enter a new number: 25 Your guess is too low\n",
        "\n",
        "Enter a new number: 40 Your guess is too low\n",
        "\n",
        "Enter a new number: 45 Your guess is too low\n",
        "\n",
        "Enter a new number: 48 Congrats! The number was: 48\n"
      ],
      "metadata": {
        "id": "yQ9R4IRXoatv"
      }
    },
    {
      "cell_type": "code",
      "source": [
        "import random  # Import random module for generating a random number\n",
        "\n",
        "def main():\n",
        "    # Pick a random number between 1 and 99\n",
        "    secret_number = random.randint(1, 9)\n",
        "\n",
        "    print(\"🎲 I'm thinking of a number between 1 and 9. Can you guess it?\")\n",
        "\n",
        "    # Ask the user for their first guess\n",
        "    guess = int(input(\"🔢 Enter your guess: \"))\n",
        "\n",
        "    # Loop until the correct number is guessed\n",
        "    while guess != secret_number:\n",
        "        if guess < secret_number:\n",
        "            print(\"📉 Oops! That guess is too low.\")\n",
        "        else:\n",
        "            print(\"📈 Whoa! That guess is too high.\")\n",
        "\n",
        "        print()  # Blank line for better spacing\n",
        "        guess = int(input(\"🤔 Try again: \"))\n",
        "\n",
        "    # If user guesses correctly\n",
        "    print(\"🎉 Congratulations! You guessed it right. The number was:\", secret_number)\n",
        "\n",
        "# Python boilerplate to run the main function\n",
        "if __name__ == '__main__':\n",
        "    main()"
      ],
      "metadata": {
        "colab": {
          "base_uri": "https://localhost:8080/"
        },
        "id": "ycm4aMynooV1",
        "outputId": "66546496-d88f-49f8-88ea-55e49623c265"
      },
      "execution_count": 7,
      "outputs": [
        {
          "output_type": "stream",
          "name": "stdout",
          "text": [
            "🎲 I'm thinking of a number between 1 and 9. Can you guess it?\n",
            "🔢 Enter your guess: 6\n",
            "📉 Oops! That guess is too low.\n",
            "\n",
            "🤔 Try again: 7\n",
            "🎉 Congratulations! You guessed it right. The number was: 7\n"
          ]
        }
      ]
    }
  ]
}