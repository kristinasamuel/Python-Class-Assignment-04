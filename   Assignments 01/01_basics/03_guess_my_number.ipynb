{
  "nbformat": 4,
  "nbformat_minor": 0,
  "metadata": {
    "colab": {
      "provenance": [],
      "authorship_tag": "ABX9TyNTjvJXoTg9bubAYenrT+7H",
      "include_colab_link": true
    },
    "kernelspec": {
      "name": "python3",
      "display_name": "Python 3"
    },
    "language_info": {
      "name": "python"
    }
  },
  "cells": [
    {
      "cell_type": "markdown",
      "metadata": {
        "id": "view-in-github",
        "colab_type": "text"
      },
      "source": [
        "<a href=\"https://colab.research.google.com/github/kristinasamuel/Python-Class-Assignment-04/blob/main/%20%20Assignments%2001/01_basics/03_guess_my_number.ipynb\" target=\"_parent\"><img src=\"https://colab.research.google.com/assets/colab-badge.svg\" alt=\"Open In Colab\"/></a>"
      ]
    },
    {
      "cell_type": "code",
      "execution_count": null,
      "metadata": {
        "id": "2Qybi1VwdKS0"
      },
      "outputs": [],
      "source": []
    },
    {
      "cell_type": "markdown",
      "source": [
        "# **Problem Statement**\n",
        "\n",
        "Guess My Number\n",
        "\n",
        "I am thinking of a number between 0 and 99... Enter a guess: 50 Your guess is too high\n",
        "\n",
        "Enter a new number: 25 Your guess is too low\n",
        "\n",
        "Enter a new number: 40 Your guess is too low\n",
        "\n",
        "Enter a new number: 45 Your guess is too low\n",
        "\n",
        "Enter a new number: 48 Congrats! The number was: 48"
      ],
      "metadata": {
        "id": "XmyErM4RdRgO"
      }
    },
    {
      "cell_type": "code",
      "source": [
        "# Guess number game\n",
        "import random\n",
        "def main():\n",
        "    #  secret number\n",
        "  secret_number:int = random.randint(1,99)\n",
        "  print(\"I am thinking of a number 1 and 99...😎\\n\")\n",
        "  guess_message = \"Enter a guess: \"\n",
        "  # user prompt write number\n",
        "  guess = int(input(guess_message))\n",
        "  # use while loop\n",
        "  while guess != secret_number:\n",
        "    # define condition based on user guess number\n",
        "    if guess < secret_number:\n",
        "       print(\"print your guess is too low😒.\")\n",
        "    else:\n",
        "      print(\"your guess is too high😃.\")\n",
        "\n",
        "    print()\n",
        "  #  new guess\n",
        "    guess: int = int(input(\"Enter a new guess: \"))\n",
        "\n",
        "#  success message\n",
        "  print(\"Congrats! The number was: \" + str(secret_number))\n",
        "\n",
        "# run the code\n",
        "if __name__ == \"__main__\":\n",
        "  main()"
      ],
      "metadata": {
        "colab": {
          "base_uri": "https://localhost:8080/"
        },
        "id": "DXYybMBmdbPY",
        "outputId": "4300ae16-a45c-4e17-c4a3-000e286ff75d"
      },
      "execution_count": null,
      "outputs": [
        {
          "output_type": "stream",
          "name": "stdout",
          "text": [
            "I am thinking of a number 1 and 99...😎\n",
            "\n",
            "Enter a guess: 45\n",
            "your guess is too high😃.\n",
            "\n",
            "Enter a new guess: 36\n",
            "your guess is too high😃.\n",
            "\n",
            "Enter a new guess: 12\n",
            "print your guess is too low😒.\n",
            "\n",
            "Enter a new guess: 35\n",
            "your guess is too high😃.\n",
            "\n",
            "Enter a new guess: 78\n",
            "your guess is too high😃.\n",
            "\n"
          ]
        }
      ]
    }
  ]
}